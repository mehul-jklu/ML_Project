{
  "nbformat": 4,
  "nbformat_minor": 0,
  "metadata": {
    "colab": {
      "name": "LR.ipynb",
      "provenance": []
    },
    "kernelspec": {
      "name": "python3",
      "display_name": "Python 3"
    }
  },
  "cells": [
    {
      "cell_type": "code",
      "metadata": {
        "id": "SWULAGbmkUek",
        "outputId": "14fdbebc-9d75-4a8d-df3d-28fa0b18f272",
        "colab": {
          "base_uri": "https://localhost:8080/"
        }
      },
      "source": [
        "from google.colab import drive\n",
        "drive.mount('/content/drive/')"
      ],
      "execution_count": null,
      "outputs": [
        {
          "output_type": "stream",
          "text": [
            "Mounted at /content/drive/\n"
          ],
          "name": "stdout"
        }
      ]
    },
    {
      "cell_type": "code",
      "metadata": {
        "id": "ASx8pDvPm2rm"
      },
      "source": [
        "import os\n",
        "import numpy as np\n",
        "import cv2\n",
        "import matplotlib.pyplot as plt\n",
        "import pickle\n",
        "\n",
        "dir= '/content/drive/My Drive/MLProject/Datacl'\n",
        "categories= ['Tshirt','kurti', 'shirt', 'skirt']\n",
        "data=[]\n",
        "for category in categories:\n",
        "  path=os.path.join(dir,category)\n",
        "  label=categories.index(category)\n",
        "\n",
        "  for img in os.listdir(path):\n",
        "    imgpath=os.path.join(path,img)\n",
        "    clt_img=cv2.imread(imgpath,0)\n",
        "    clt_img=cv2.resize(clt_img,(50,50))\n",
        "    image=np.array(clt_img).flatten()\n",
        "\n",
        "    data.append([image,label])\n"
      ],
      "execution_count": null,
      "outputs": []
    },
    {
      "cell_type": "code",
      "metadata": {
        "id": "L6oopmRyn0ed"
      },
      "source": [
        "pick_in=open('data1.pickle','wb')\n",
        "pickle.dump(data,pick_in)\n",
        "pick_in.close()"
      ],
      "execution_count": null,
      "outputs": []
    },
    {
      "cell_type": "code",
      "metadata": {
        "id": "ra7qQx1foU5_"
      },
      "source": [
        "pick_in=open('data1.pickle','rb')\n",
        "data=pickle.load(pick_in)\n",
        "pick_in.close()"
      ],
      "execution_count": null,
      "outputs": []
    },
    {
      "cell_type": "code",
      "metadata": {
        "id": "bsVNLrReoXXE"
      },
      "source": [
        "import random\n",
        "random.shuffle(data)\n",
        "features=[]\n",
        "labels=[]\n",
        "\n",
        "for feature, label in data:\n",
        "  features.append(feature)\n",
        "  labels.append(label)\n"
      ],
      "execution_count": null,
      "outputs": []
    },
    {
      "cell_type": "code",
      "metadata": {
        "id": "qth3MXD2oZZD"
      },
      "source": [
        "from sklearn.model_selection import train_test_split\n",
        "xtrain, xtest, ytrain, ytest= train_test_split(features, labels, test_size=0.20)"
      ],
      "execution_count": null,
      "outputs": []
    },
    {
      "cell_type": "code",
      "metadata": {
        "id": "xmu5SX6WobU0",
        "outputId": "8a62d39e-e85e-4bd5-a3f8-a805ed652d48",
        "colab": {
          "base_uri": "https://localhost:8080/"
        }
      },
      "source": [
        "from sklearn.linear_model import LogisticRegression\n",
        "lg=LogisticRegression(solver='liblinear')\n",
        "lg.fit(xtrain,ytrain)"
      ],
      "execution_count": null,
      "outputs": [
        {
          "output_type": "execute_result",
          "data": {
            "text/plain": [
              "LogisticRegression(C=1.0, class_weight=None, dual=False, fit_intercept=True,\n",
              "                   intercept_scaling=1, l1_ratio=None, max_iter=100,\n",
              "                   multi_class='auto', n_jobs=None, penalty='l2',\n",
              "                   random_state=None, solver='liblinear', tol=0.0001, verbose=0,\n",
              "                   warm_start=False)"
            ]
          },
          "metadata": {
            "tags": []
          },
          "execution_count": 30
        }
      ]
    },
    {
      "cell_type": "code",
      "metadata": {
        "id": "qvQ3xyvRodFX",
        "outputId": "93682e9e-074f-43a1-cc54-53d8ec8065b9",
        "colab": {
          "base_uri": "https://localhost:8080/"
        }
      },
      "source": [
        "pred=lg.predict(xtest)\n",
        "pred"
      ],
      "execution_count": null,
      "outputs": [
        {
          "output_type": "execute_result",
          "data": {
            "text/plain": [
              "array([1, 1, 3, 0, 0, 3, 0, 0, 3, 0, 1, 0, 3, 3, 3, 3, 0, 1, 0, 2, 3, 3,\n",
              "       2, 1, 2, 1, 2, 2, 0, 1, 3, 1, 0, 3, 2, 1, 3, 1, 3, 0, 2, 2, 1, 1,\n",
              "       0, 3, 1, 0, 3, 1, 0, 0, 3, 3, 3, 1, 1, 2, 1, 2, 2, 1, 0, 2, 3, 2,\n",
              "       1, 3, 2, 2, 0, 3, 0, 1, 3, 3, 2, 3, 0, 1, 1, 0, 1, 0, 0, 0, 2, 3,\n",
              "       2, 0, 3, 3, 1, 1, 1, 1, 2, 2, 0, 0, 0, 0, 1, 3, 0, 0, 1, 3, 3, 3,\n",
              "       1, 2, 3, 2, 2, 0, 3, 0, 0, 0, 2, 2, 0, 0, 3, 0, 3, 2, 1, 3, 3, 1,\n",
              "       1, 1, 1, 0, 0, 3, 3, 1])"
            ]
          },
          "metadata": {
            "tags": []
          },
          "execution_count": 31
        }
      ]
    },
    {
      "cell_type": "code",
      "metadata": {
        "id": "RE2AOVK-ofKb",
        "outputId": "a93d832d-8b4f-4846-efe7-4eca2b00733d",
        "colab": {
          "base_uri": "https://localhost:8080/"
        }
      },
      "source": [
        "scores=lg.score(xtest,ytest)\n",
        "print(\"Accuracy is :\",scores*100,'%')"
      ],
      "execution_count": null,
      "outputs": [
        {
          "output_type": "stream",
          "text": [
            "Accuracy is : 66.42857142857143 %\n"
          ],
          "name": "stdout"
        }
      ]
    },
    {
      "cell_type": "code",
      "metadata": {
        "id": "BogXI8eQq6XL",
        "outputId": "30980a2e-6e6a-4e9a-992b-aae77b7c14cb",
        "colab": {
          "base_uri": "https://localhost:8080/",
          "height": 284
        }
      },
      "source": [
        "categories= ['Tshirt','kurti', 'shirt', 'skirt']\n",
        "print(\"prediction is: \", categories[prediction[5]])\n",
        "mycloth=xtest[5].reshape(50,50)\n",
        "plt.imshow(mycloth, cmap='gray')\n",
        "plt.show()"
      ],
      "execution_count": null,
      "outputs": [
        {
          "output_type": "stream",
          "text": [
            "prediction is:  kurti\n"
          ],
          "name": "stdout"
        },
        {
          "output_type": "display_data",
          "data": {
            "image/png": "[encoded data removed]",
            "text/plain": [
              "<Figure size 432x288 with 1 Axes>"
            ]
          },
          "metadata": {
            "tags": [],
            "needs_background": "light"
          }
        }
      ]
    },
    {
      "cell_type": "code",
      "metadata": {
        "id": "XIJEXBggrNGM",
        "outputId": "6bfd29fb-10f9-406d-8670-e0853a21b34b",
        "colab": {
          "base_uri": "https://localhost:8080/",
          "height": 284
        }
      },
      "source": [
        "print(\"prediction is: \", categories[prediction[13]])\n",
        "mycloth=xtest[13].reshape(50,50)\n",
        "plt.imshow(mycloth, cmap='gray')\n",
        "plt.show()"
      ],
      "execution_count": null,
      "outputs": [
        {
          "output_type": "stream",
          "text": [
            "prediction is:  skirt\n"
          ],
          "name": "stdout"
        },
        {
          "output_type": "display_data",
          "data": {
            "image/png": "[encoded data removed]",
            "text/plain": [
              "<Figure size 432x288 with 1 Axes>"
            ]
          },
          "metadata": {
            "tags": [],
            "needs_background": "light"
          }
        }
      ]
    },
    {
      "cell_type": "code",
      "metadata": {
        "id": "WvhzJn0CrfM6",
        "outputId": "04f9a522-36c1-435c-c4c8-6f98e2220bd0",
        "colab": {
          "base_uri": "https://localhost:8080/",
          "height": 284
        }
      },
      "source": [
        "print(\"prediction is: \", categories[prediction[9]])\n",
        "mycloth=xtest[9].reshape(50,50)\n",
        "plt.imshow(mycloth, cmap='gray')\n",
        "plt.show()"
      ],
      "execution_count": null,
      "outputs": [
        {
          "output_type": "stream",
          "text": [
            "prediction is:  shirt\n"
          ],
          "name": "stdout"
        },
        {
          "output_type": "display_data",
          "data": {
            "image/png": "[encoded data removed]",
            "text/plain": [
              "<Figure size 432x288 with 1 Axes>"
            ]
          },
          "metadata": {
            "tags": [],
            "needs_background": "light"
          }
        }
      ]
    },
    {
      "cell_type": "markdown",
      "metadata": {
        "id": "UbFgSHPGsGBt"
      },
      "source": [
        ""
      ]
    },
    {
      "cell_type": "code",
      "metadata": {
        "id": "4AqTMQiDohIs",
        "outputId": "36227baa-3f22-4eb8-dd47-c264e4ebe246",
        "colab": {
          "base_uri": "https://localhost:8080/"
        }
      },
      "source": [
        "from sklearn.metrics import classification_report\n",
        "print(classification_report(ytest,pred))"
      ],
      "execution_count": null,
      "outputs": [
        {
          "output_type": "stream",
          "text": [
            "              precision    recall  f1-score   support\n",
            "\n",
            "           0       0.46      0.78      0.58        23\n",
            "           1       0.83      0.75      0.79        40\n",
            "           2       0.73      0.49      0.58        39\n",
            "           3       0.67      0.68      0.68        38\n",
            "\n",
            "    accuracy                           0.66       140\n",
            "   macro avg       0.67      0.68      0.66       140\n",
            "weighted avg       0.70      0.66      0.67       140\n",
            "\n"
          ],
          "name": "stdout"
        }
      ]
    },
    {
      "cell_type": "code",
      "metadata": {
        "id": "3gqZyUIzqZ_X",
        "outputId": "52c58f57-9acd-4061-bb89-5fec02ba7293",
        "colab": {
          "base_uri": "https://localhost:8080/"
        }
      },
      "source": [
        "from sklearn.metrics import confusion_matrix\n",
        "cm=confusion_matrix(ytest,pred)\n",
        "cm"
      ],
      "execution_count": null,
      "outputs": [
        {
          "output_type": "execute_result",
          "data": {
            "text/plain": [
              "array([[18,  1,  3,  1],\n",
              "       [ 0, 30,  2,  8],\n",
              "       [16,  0, 19,  4],\n",
              "       [ 5,  5,  2, 26]])"
            ]
          },
          "metadata": {
            "tags": []
          },
          "execution_count": 34
        }
      ]
    },
    {
      "cell_type": "code",
      "metadata": {
        "id": "EI8dYxwXqdvE",
        "outputId": "df10b9de-bd8c-451b-d730-743b51360ef0",
        "colab": {
          "base_uri": "https://localhost:8080/",
          "height": 286
        }
      },
      "source": [
        "import seaborn as sns\n",
        "sns.heatmap(cm,annot=True)"
      ],
      "execution_count": null,
      "outputs": [
        {
          "output_type": "execute_result",
          "data": {
            "text/plain": [
              "<matplotlib.axes._subplots.AxesSubplot at 0x7f43afa93eb8>"
            ]
          },
          "metadata": {
            "tags": []
          },
          "execution_count": 35
        },
        {
          "output_type": "display_data",
          "data": {
            "image/png": "[encoded data removed]",
            "text/plain": [
              "<Figure size 432x288 with 2 Axes>"
            ]
          },
          "metadata": {
            "tags": [],
            "needs_background": "light"
          }
        }
      ]
    },
    {
      "cell_type": "code",
      "metadata": {
        "id": "WqEv5Hznqj4e",
        "outputId": "625c73cb-c1d4-4d5c-bb65-b6faf26bec12",
        "colab": {
          "base_uri": "https://localhost:8080/"
        }
      },
      "source": [
        "from sklearn.metrics import roc_curve, roc_auc_score\n",
        "from sklearn import preprocessing\n",
        "\n",
        "lb = preprocessing.LabelBinarizer()\n",
        "lb.fit(ytest)\n",
        "ytest = lb.transform(ytest)\n",
        "pred = lb.transform(pred)\n",
        "roc=roc_auc_score(ytest, pred, average='macro')\n",
        "print(\"AUC Score:\" , roc)"
      ],
      "execution_count": null,
      "outputs": [
        {
          "output_type": "stream",
          "text": [
            "AUC Score: 0.7834692023218806\n"
          ],
          "name": "stdout"
        }
      ]
    },
    {
      "cell_type": "code",
      "metadata": {
        "id": "hqMuKJgKqoa1"
      },
      "source": [
        ""
      ],
      "execution_count": null,
      "outputs": []
    }
  ]
}
{
  "nbformat": 4,
  "nbformat_minor": 0,
  "metadata": {
    "colab": {
      "name": "Image_classification.ipynb",
      "provenance": [],
      "collapsed_sections": []
    },
    "kernelspec": {
      "name": "python3",
      "display_name": "Python 3"
    }
  },
  "cells": [
    {
      "cell_type": "markdown",
      "metadata": {
        "id": "tMjt8e106w6O"
      },
      "source": [
        "### **Exraction of Zip File**"
      ]
    },
    {
      "cell_type": "code",
      "metadata": {
        "id": "pxC2aSMhjWvD",
        "outputId": "44af56bf-7ede-4e16-fe35-32ec281efea8",
        "colab": {
          "base_uri": "https://localhost:8080/"
        }
      },
      "source": [
        "from google.colab import drive\n",
        "drive.mount('/content/drive/')"
      ],
      "execution_count": null,
      "outputs": [
        {
          "output_type": "stream",
          "text": [
            "Drive already mounted at /content/drive/; to attempt to forcibly remount, call drive.mount(\"/content/drive/\", force_remount=True).\n"
          ],
          "name": "stdout"
        }
      ]
    },
    {
      "cell_type": "code",
      "metadata": {
        "id": "3cyHjIj0EPhl",
        "outputId": "06ea57ca-ebb3-4963-cb22-43ffdcad3b99",
        "colab": {
          "base_uri": "https://localhost:8080/",
          "height": 279
        }
      },
      "source": [
        "from skimage import io\n",
        "import matplotlib.pyplot as plt\n",
        "image = io.imread('/content/Dataset/Tshirt/2.jpg')\n",
        "\n",
        "plt.hist(image.ravel(), bins = 256, color = 'orange' )\n",
        "plt.hist(image[:, :, 0].ravel(), bins = 256, color = 'red', alpha = 0.5)\n",
        "plt.hist(image[:, :, 1].ravel(), bins = 256, color = 'Green', alpha = 0.5)\n",
        "plt.hist(image[:, :, 2].ravel(), bins = 256, color = 'Blue', alpha = 0.5)\n",
        "plt.xlabel('Intensity Value')\n",
        "plt.ylabel('Count')\n",
        "plt.legend(['Total', 'Red_Channel', 'Green_Channel', 'Blue_Channel'])\n",
        "plt.show()"
      ],
      "execution_count": null,
      "outputs": [
        {
          "output_type": "display_data",
          "data": {
            "image/png": "[encoded data removed]",
            "text/plain": [
              "<Figure size 432x288 with 1 Axes>"
            ]
          },
          "metadata": {
            "tags": [],
            "needs_background": "light"
          }
        }
      ]
    },
    {
      "cell_type": "code",
      "metadata": {
        "id": "rV5dSOLq2fPN",
        "outputId": "1be562b6-65af-4ac1-9413-f973e69a5a02",
        "colab": {
          "base_uri": "https://localhost:8080/",
          "height": 265
        }
      },
      "source": [
        "from skimage import io\n",
        "import matplotlib.pyplot as plt\n",
        "image = io.imread('/content/Dataset/Tshirt/2.jpg')\n",
        "ax = plt.hist(image.ravel(), bins = 256)\n",
        "plt.show()"
      ],
      "execution_count": null,
      "outputs": [
        {
          "output_type": "display_data",
          "data": {
            "image/png": "[encoded data removed]",
            "text/plain": [
              "<Figure size 432x288 with 1 Axes>"
            ]
          },
          "metadata": {
            "tags": [],
            "needs_background": "light"
          }
        }
      ]
    },
    {
      "cell_type": "markdown",
      "metadata": {
        "id": "BHdYUuXX7JX1"
      },
      "source": [
        "### **Calling Dataset and labelling of Images categoriacally**"
      ]
    },
    {
      "cell_type": "code",
      "metadata": {
        "id": "FWB-CFbzkAMD"
      },
      "source": [
        "import os\n",
        "import numpy as np\n",
        "import cv2\n",
        "import matplotlib.pyplot as plt\n",
        "import pickle\n",
        "\n",
        "dir= '/content/drive/My Drive/MLProject/Datacl'\n",
        "categories= ['Tshirt','kurti', 'shirt', 'skirt']\n",
        "data=[]\n",
        "for category in categories:\n",
        "  path=os.path.join(dir,category)\n",
        "  label=categories.index(category)\n",
        "\n",
        "  for img in os.listdir(path):\n",
        "    imgpath=os.path.join(path,img)\n",
        "    clt_img=cv2.imread(imgpath,0)\n",
        "    clt_img=cv2.resize(clt_img,(50,50))\n",
        "    image=np.array(clt_img).flatten()\n",
        "\n",
        "    data.append([image,label])\n",
        "\n"
      ],
      "execution_count": null,
      "outputs": []
    },
    {
      "cell_type": "code",
      "metadata": {
        "id": "YGMIP7eu3w_A",
        "outputId": "bde83d57-cf86-49e2-eda1-8a13a5f6d0cf",
        "colab": {
          "base_uri": "https://localhost:8080/"
        }
      },
      "source": [
        "image"
      ],
      "execution_count": null,
      "outputs": [
        {
          "output_type": "execute_result",
          "data": {
            "text/plain": [
              "array([249, 249, 249, ..., 226, 227, 226], dtype=uint8)"
            ]
          },
          "metadata": {
            "tags": []
          },
          "execution_count": 3
        }
      ]
    },
    {
      "cell_type": "code",
      "metadata": {
        "id": "3mSklH_y0C54",
        "outputId": "4e0d3c49-ea01-439f-a4f3-8219bfb4327c",
        "colab": {
          "base_uri": "https://localhost:8080/"
        }
      },
      "source": [
        "data"
      ],
      "execution_count": null,
      "outputs": [
        {
          "output_type": "execute_result",
          "data": {
            "text/plain": [
              "[[array([234, 234, 234, ..., 233, 233, 234], dtype=uint8), 0],\n",
              " [array([253, 253, 253, ..., 253, 253, 253], dtype=uint8), 0],\n",
              " [array([187, 186, 186, ..., 170, 155, 147], dtype=uint8), 0],\n",
              " [array([182, 183, 184, ..., 161, 160, 157], dtype=uint8), 0],\n",
              " [array([200, 200, 200, ..., 139, 137, 136], dtype=uint8), 0],\n",
              " [array([184, 184, 185, ..., 141, 192, 174], dtype=uint8), 0],\n",
              " [array([221, 221, 220, ..., 154, 211, 212], dtype=uint8), 0],\n",
              " [array([233, 226,  30, ..., 218, 218, 217], dtype=uint8), 0],\n",
              " [array([184, 184, 188, ..., 165, 154,  59], dtype=uint8), 0],\n",
              " [array([181, 182, 183, ..., 170, 137, 180], dtype=uint8), 0],\n",
              " [array([ 94,  98,  98, ..., 179, 177, 176], dtype=uint8), 0],\n",
              " [array([183, 183, 185, ..., 203, 201, 200], dtype=uint8), 0],\n",
              " [array([241, 241, 241, ..., 227, 226, 226], dtype=uint8), 0],\n",
              " [array([176, 176, 177, ..., 130, 139, 125], dtype=uint8), 0],\n",
              " [array([226, 226, 226, ..., 209, 209, 207], dtype=uint8), 0],\n",
              " [array([172, 176, 176, ..., 170, 171, 171], dtype=uint8), 0],\n",
              " [array([244, 245, 245, ..., 246, 245, 244], dtype=uint8), 0],\n",
              " [array([234, 234, 234, ..., 208, 211, 213], dtype=uint8), 0],\n",
              " [array([235, 235, 235, ..., 229, 228, 227], dtype=uint8), 0],\n",
              " [array([ 20,  30,  14, ..., 112, 111, 109], dtype=uint8), 0],\n",
              " [array([106, 109,  97, ...,  42,  43,  44], dtype=uint8), 0],\n",
              " [array([193, 192, 192, ..., 174, 172, 171], dtype=uint8), 0],\n",
              " [array([218, 218, 220, ..., 202, 203, 202], dtype=uint8), 0],\n",
              " [array([231, 231, 230, ..., 234, 234, 234], dtype=uint8), 0],\n",
              " [array([161, 164, 168, ..., 205, 205, 205], dtype=uint8), 0],\n",
              " [array([165, 165, 165, ..., 135, 134, 131], dtype=uint8), 0],\n",
              " [array([183, 183, 183, ..., 168, 167, 165], dtype=uint8), 0],\n",
              " [array([164, 167, 168, ..., 157, 155, 154], dtype=uint8), 0],\n",
              " [array([226, 226, 226, ..., 232, 232, 232], dtype=uint8), 0],\n",
              " [array([246, 246, 246, ..., 240, 240, 240], dtype=uint8), 0],\n",
              " [array([236, 237, 237, ..., 234, 234, 234], dtype=uint8), 0],\n",
              " [array([192, 192, 192, ..., 208, 202, 174], dtype=uint8), 0],\n",
              " [array([180, 181, 180, ..., 119, 121, 124], dtype=uint8), 0],\n",
              " [array([241, 241, 242, ..., 220, 220, 219], dtype=uint8), 0],\n",
              " [array([236, 236, 237, ..., 238, 239, 239], dtype=uint8), 0],\n",
              " [array([242, 242, 242, ..., 242, 242, 242], dtype=uint8), 0],\n",
              " [array([167, 167, 170, ...,  44,  32,  95], dtype=uint8), 0],\n",
              " [array([233, 233, 233, ..., 176, 148, 241], dtype=uint8), 0],\n",
              " [array([193, 193, 193, ..., 211, 221, 223], dtype=uint8), 0],\n",
              " [array([190, 190, 190, ..., 161, 160, 158], dtype=uint8), 0],\n",
              " [array([148, 148, 149, ..., 193, 192, 192], dtype=uint8), 0],\n",
              " [array([241, 241, 241, ..., 241, 242, 242], dtype=uint8), 0],\n",
              " [array([233, 233, 233, ..., 241, 241, 241], dtype=uint8), 0],\n",
              " [array([217, 216, 219, ..., 206, 205, 204], dtype=uint8), 0],\n",
              " [array([184, 184, 184, ..., 123, 127, 129], dtype=uint8), 0],\n",
              " [array([190, 190, 190, ..., 158, 155, 153], dtype=uint8), 0],\n",
              " [array([235, 235, 236, ..., 236, 236, 236], dtype=uint8), 0],\n",
              " [array([205, 205, 205, ..., 173, 172, 172], dtype=uint8), 0],\n",
              " [array([181, 180, 180, ..., 191, 213, 172], dtype=uint8), 0],\n",
              " [array([242, 242, 242, ..., 242, 242, 242], dtype=uint8), 0],\n",
              " [array([ 17,  16,  15, ..., 169, 168, 168], dtype=uint8), 0],\n",
              " [array([183, 183, 183, ..., 182, 180, 179], dtype=uint8), 0],\n",
              " [array([242, 242, 242, ..., 242, 242, 242], dtype=uint8), 0],\n",
              " [array([183, 183, 185, ..., 146, 144, 141], dtype=uint8), 0],\n",
              " [array([222, 222, 226, ..., 218, 214, 210], dtype=uint8), 0],\n",
              " [array([139, 139, 142, ..., 144, 144, 144], dtype=uint8), 0],\n",
              " [array([182, 182, 180, ..., 170, 169, 169], dtype=uint8), 0],\n",
              " [array([227, 227, 227, ..., 219, 218, 217], dtype=uint8), 0],\n",
              " [array([242, 242, 242, ..., 241, 242, 242], dtype=uint8), 0],\n",
              " [array([215, 215, 217, ..., 218, 217, 215], dtype=uint8), 0],\n",
              " [array([189, 189, 189, ..., 115, 115, 114], dtype=uint8), 0],\n",
              " [array([146, 148, 149, ..., 135, 134, 133], dtype=uint8), 0],\n",
              " [array([158, 158, 158, ..., 151, 150, 149], dtype=uint8), 0],\n",
              " [array([212, 212, 211, ..., 212, 211, 209], dtype=uint8), 0],\n",
              " [array([239, 239, 239, ..., 237, 236, 234], dtype=uint8), 0],\n",
              " [array([172, 173, 173, ..., 191, 191, 191], dtype=uint8), 0],\n",
              " [array([121,  93,  51, ..., 170, 158, 139], dtype=uint8), 0],\n",
              " [array([231, 230, 234, ..., 234, 236, 236], dtype=uint8), 0],\n",
              " [array([172, 172, 172, ..., 167, 167, 167], dtype=uint8), 0],\n",
              " [array([157, 157, 157, ..., 184, 184, 184], dtype=uint8), 0],\n",
              " [array([182, 182, 184, ..., 153, 155, 101], dtype=uint8), 0],\n",
              " [array([180, 179, 183, ..., 206, 206, 206], dtype=uint8), 0],\n",
              " [array([212, 212, 212, ..., 227, 228, 228], dtype=uint8), 0],\n",
              " [array([118, 118, 120, ..., 147, 147, 145], dtype=uint8), 0],\n",
              " [array([235, 235, 235, ..., 232, 230, 228], dtype=uint8), 0],\n",
              " [array([183, 185, 187, ..., 145, 146, 147], dtype=uint8), 0],\n",
              " [array([182, 182, 180, ..., 125, 129, 134], dtype=uint8), 0],\n",
              " [array([224, 223, 225, ..., 229, 228, 228], dtype=uint8), 0],\n",
              " [array([147, 147, 147, ..., 186, 185, 184], dtype=uint8), 0],\n",
              " [array([170, 170, 171, ..., 143, 143, 143], dtype=uint8), 0],\n",
              " [array([187, 188, 189, ..., 165, 167, 168], dtype=uint8), 0],\n",
              " [array([176, 178, 179, ..., 144, 143, 142], dtype=uint8), 0],\n",
              " [array([213, 213, 213, ..., 198, 200, 198], dtype=uint8), 0],\n",
              " [array([67, 68, 69, ..., 86, 85, 84], dtype=uint8), 0],\n",
              " [array([90, 92, 81, ..., 42, 42, 42], dtype=uint8), 0],\n",
              " [array([242, 242, 242, ..., 242, 242, 242], dtype=uint8), 0],\n",
              " [array([134, 134, 135, ..., 120, 118, 116], dtype=uint8), 0],\n",
              " [array([107, 107, 107, ..., 220, 220, 220], dtype=uint8), 0],\n",
              " [array([112, 112,  98, ...,  41,  42,  43], dtype=uint8), 0],\n",
              " [array([138, 140, 143, ..., 215, 215, 215], dtype=uint8), 0],\n",
              " [array([104, 106,  92, ...,  44,  47,  47], dtype=uint8), 0],\n",
              " [array([158, 158, 158, ..., 185, 185, 184], dtype=uint8), 0],\n",
              " [array([255, 255, 255, ..., 255, 255, 255], dtype=uint8), 0],\n",
              " [array([91, 93, 84, ..., 45, 46, 46], dtype=uint8), 0],\n",
              " [array([94, 97, 85, ..., 65, 65, 65], dtype=uint8), 0],\n",
              " [array([186, 186, 187, ..., 148, 148, 149], dtype=uint8), 0],\n",
              " [array([88, 92, 78, ..., 73, 74, 74], dtype=uint8), 0],\n",
              " [array([228, 228, 229, ..., 243, 242, 242], dtype=uint8), 0],\n",
              " [array([193, 193, 193, ..., 145, 147, 147], dtype=uint8), 0],\n",
              " [array([209, 210, 209, ..., 178, 179, 178], dtype=uint8), 0],\n",
              " [array([185, 185, 185, ...,  84,  87, 105], dtype=uint8), 0],\n",
              " [array([95, 94, 87, ..., 43, 44, 44], dtype=uint8), 0],\n",
              " [array([155, 158, 160, ..., 197, 197, 197], dtype=uint8), 0],\n",
              " [array([157, 160, 161, ..., 183, 182, 182], dtype=uint8), 0],\n",
              " [array([170, 170, 172, ..., 153, 153, 152], dtype=uint8), 0],\n",
              " [array([ 83,  83,  82, ..., 166, 139,  53], dtype=uint8), 0],\n",
              " [array([241, 241, 242, ..., 235, 237, 238], dtype=uint8), 0],\n",
              " [array([237, 237, 238, ..., 236, 235, 235], dtype=uint8), 0],\n",
              " [array([231, 231, 231, ..., 211, 209, 209], dtype=uint8), 0],\n",
              " [array([227, 227, 227, ..., 235, 235, 235], dtype=uint8), 0],\n",
              " [array([241, 241, 241, ..., 238, 237, 237], dtype=uint8), 0],\n",
              " [array([234, 234, 234, ..., 239, 240, 240], dtype=uint8), 0],\n",
              " [array([180, 180, 182, ..., 165, 163, 161], dtype=uint8), 0],\n",
              " [array([242, 242, 242, ..., 242, 242, 242], dtype=uint8), 0],\n",
              " [array([235, 235, 235, ..., 232, 231, 229], dtype=uint8), 0],\n",
              " [array([242, 242, 242, ..., 242, 242, 242], dtype=uint8), 0],\n",
              " [array([233, 233, 233, ..., 236, 237, 235], dtype=uint8), 0],\n",
              " [array([248, 248, 248, ..., 224, 225, 226], dtype=uint8), 0],\n",
              " [array([223, 224, 224, ..., 217, 218, 220], dtype=uint8), 0],\n",
              " [array([255, 255, 255, ..., 238, 238, 236], dtype=uint8), 0],\n",
              " [array([238, 238, 238, ..., 241, 241, 242], dtype=uint8), 0],\n",
              " [array([249, 249, 249, ..., 201, 203, 208], dtype=uint8), 0],\n",
              " [array([248, 248, 248, ..., 230, 232, 234], dtype=uint8), 0],\n",
              " [array([242, 242, 242, ..., 183, 185, 188], dtype=uint8), 0],\n",
              " [array([247, 247, 247, ..., 235, 235, 238], dtype=uint8), 0],\n",
              " [array([234, 234, 235, ..., 207, 208, 207], dtype=uint8), 0],\n",
              " [array([245, 245, 245, ..., 235, 235, 235], dtype=uint8), 0],\n",
              " [array([246, 246, 246, ..., 212, 212, 212], dtype=uint8), 0],\n",
              " [array([228, 228, 228, ..., 228, 228, 228], dtype=uint8), 0],\n",
              " [array([224, 224, 223, ..., 205, 205, 205], dtype=uint8), 0],\n",
              " [array([253, 253, 253, ..., 227, 228, 228], dtype=uint8), 0],\n",
              " [array([243, 243, 243, ..., 198, 199, 201], dtype=uint8), 0],\n",
              " [array([247, 247, 247, ..., 231, 232, 234], dtype=uint8), 0],\n",
              " [array([242, 242, 243, ..., 240, 242, 243], dtype=uint8), 0],\n",
              " [array([240, 241, 243, ..., 221, 224, 224], dtype=uint8), 0],\n",
              " [array([242, 242, 242, ..., 239, 239, 239], dtype=uint8), 0],\n",
              " [array([243, 243, 243, ..., 227, 228, 228], dtype=uint8), 0],\n",
              " [array([228, 228, 227, ..., 227, 227, 228], dtype=uint8), 0],\n",
              " [array([250, 250, 252, ..., 212, 212, 212], dtype=uint8), 0],\n",
              " [array([249, 249, 250, ..., 218, 218, 219], dtype=uint8), 0],\n",
              " [array([240, 240, 240, ..., 240, 240, 240], dtype=uint8), 0],\n",
              " [array([236, 236, 236, ..., 208, 207, 207], dtype=uint8), 0],\n",
              " [array([224, 222, 221, ..., 213, 213, 213], dtype=uint8), 0],\n",
              " [array([242, 242, 241, ..., 174, 175, 177], dtype=uint8), 0],\n",
              " [array([242, 242, 242, ..., 238, 239, 239], dtype=uint8), 0],\n",
              " [array([243, 243, 243, ..., 235, 239, 239], dtype=uint8), 0],\n",
              " [array([149, 149, 150, ..., 145, 145, 145], dtype=uint8), 0],\n",
              " [array([211, 212, 212, ..., 227, 227, 227], dtype=uint8), 0],\n",
              " [array([249, 249, 249, ..., 175, 181, 142], dtype=uint8), 0],\n",
              " [array([246, 246, 246, ..., 157, 164, 197], dtype=uint8), 0],\n",
              " [array([245, 245, 245, ..., 197, 198, 199], dtype=uint8), 0],\n",
              " [array([242, 242, 242, ..., 242, 242, 242], dtype=uint8), 0],\n",
              " [array([245, 245, 245, ..., 233, 234, 235], dtype=uint8), 0],\n",
              " [array([227, 227, 227, ..., 233, 233, 233], dtype=uint8), 0],\n",
              " [array([250, 250, 250, ..., 241, 242, 245], dtype=uint8), 0],\n",
              " [array([235, 235, 235, ..., 235, 235, 236], dtype=uint8), 0],\n",
              " [array([231, 231, 232, ..., 236, 236, 236], dtype=uint8), 0],\n",
              " [array([228, 229, 229, ..., 231, 231, 229], dtype=uint8), 0],\n",
              " [array([229, 229, 231, ..., 231, 231, 231], dtype=uint8), 0],\n",
              " [array([250, 250, 250, ..., 187, 189, 191], dtype=uint8), 0],\n",
              " [array([225, 225, 226, ..., 232, 231, 232], dtype=uint8), 0],\n",
              " [array([249, 249, 249, ..., 199, 198, 159], dtype=uint8), 0],\n",
              " [array([236, 237, 235, ..., 163, 227, 225], dtype=uint8), 0],\n",
              " [array([240, 240, 241, ..., 240, 240, 240], dtype=uint8), 0],\n",
              " [array([245, 246, 246, ..., 228, 228, 228], dtype=uint8), 0],\n",
              " [array([247, 247, 247, ..., 234, 235, 235], dtype=uint8), 0],\n",
              " [array([249, 249, 249, ..., 229, 229, 228], dtype=uint8), 0],\n",
              " [array([247, 247, 247, ..., 247, 247, 247], dtype=uint8), 0],\n",
              " [array([245, 244, 244, ..., 242, 242, 242], dtype=uint8), 0],\n",
              " [array([255, 255, 255, ..., 240, 239, 239], dtype=uint8), 1],\n",
              " [array([122, 186, 120, ..., 245, 244, 243], dtype=uint8), 1],\n",
              " [array([143, 160, 142, ..., 154, 150, 152], dtype=uint8), 1],\n",
              " [array([255, 255, 255, ..., 255, 255, 255], dtype=uint8), 1],\n",
              " [array([184, 184, 184, ..., 212, 212, 212], dtype=uint8), 1],\n",
              " [array([181, 181, 181, ..., 192, 192, 192], dtype=uint8), 1],\n",
              " [array([242, 242, 242, ..., 241, 241, 241], dtype=uint8), 1],\n",
              " [array([189, 189, 189, ..., 198, 198, 198], dtype=uint8), 1],\n",
              " [array([197, 197, 197, ..., 128, 127, 123], dtype=uint8), 1],\n",
              " [array([198, 198, 198, ..., 203, 203, 201], dtype=uint8), 1],\n",
              " [array([254, 254, 254, ..., 124, 126, 126], dtype=uint8), 1],\n",
              " [array([239, 239, 241, ..., 246, 246, 246], dtype=uint8), 1],\n",
              " [array([255, 255, 255, ..., 255, 255, 255], dtype=uint8), 1],\n",
              " [array([118, 118, 117, ..., 111, 117, 117], dtype=uint8), 1],\n",
              " [array([241, 241, 241, ..., 248, 248, 248], dtype=uint8), 1],\n",
              " [array([255, 255, 255, ..., 255, 255, 255], dtype=uint8), 1],\n",
              " [array([253, 253, 253, ..., 253, 253, 253], dtype=uint8), 1],\n",
              " [array([182, 182, 182, ..., 197, 197, 197], dtype=uint8), 1],\n",
              " [array([184, 184, 184, ..., 204, 204, 204], dtype=uint8), 1],\n",
              " [array([186, 187, 187, ..., 204, 204, 203], dtype=uint8), 1],\n",
              " [array([183, 184, 184, ..., 185, 185, 184], dtype=uint8), 1],\n",
              " [array([241, 241, 241, ..., 231, 231, 231], dtype=uint8), 1],\n",
              " [array([169, 169, 169, ..., 185, 184, 183], dtype=uint8), 1],\n",
              " [array([165, 168, 169, ..., 207, 206, 206], dtype=uint8), 1],\n",
              " [array([169, 171, 171, ..., 200, 199, 199], dtype=uint8), 1],\n",
              " [array([171, 171, 172, ..., 192, 192, 192], dtype=uint8), 1],\n",
              " [array([241, 241, 241, ..., 231, 231, 231], dtype=uint8), 1],\n",
              " [array([162, 162, 163, ..., 133, 133, 133], dtype=uint8), 1],\n",
              " [array([175, 175, 176, ..., 199, 198, 197], dtype=uint8), 1],\n",
              " [array([186, 186, 186, ..., 192, 191, 191], dtype=uint8), 1],\n",
              " [array([155, 158, 162, ..., 190, 189, 187], dtype=uint8), 1],\n",
              " [array([221, 221, 222, ..., 218, 219, 219], dtype=uint8), 1],\n",
              " [array([175, 175, 176, ..., 197, 197, 196], dtype=uint8), 1],\n",
              " [array([221, 221, 221, ..., 222, 220, 220], dtype=uint8), 1],\n",
              " [array([245, 245, 245, ..., 234, 234, 234], dtype=uint8), 1],\n",
              " [array([186, 186, 187, ..., 204, 203, 203], dtype=uint8), 1],\n",
              " [array([180, 180, 181, ..., 203, 203, 203], dtype=uint8), 1],\n",
              " [array([190, 190, 189, ..., 210, 210, 210], dtype=uint8), 1],\n",
              " [array([186, 186, 186, ..., 204, 203, 201], dtype=uint8), 1],\n",
              " [array([215, 215, 213, ..., 147, 147, 147], dtype=uint8), 1],\n",
              " [array([242, 242, 242, ..., 240, 239, 239], dtype=uint8), 1],\n",
              " [array([177, 177, 177, ..., 145, 156, 167], dtype=uint8), 1],\n",
              " [array([235, 235, 235, ..., 240, 240, 240], dtype=uint8), 1],\n",
              " [array([228, 228, 228, ..., 226, 226, 226], dtype=uint8), 1],\n",
              " [array([184, 184, 184, ..., 234, 234, 234], dtype=uint8), 1],\n",
              " [array([241, 241, 241, ..., 237, 236, 236], dtype=uint8), 1],\n",
              " [array([ 97,  97,  99, ..., 156, 155, 154], dtype=uint8), 1],\n",
              " [array([218, 218, 218, ..., 227, 227, 227], dtype=uint8), 1],\n",
              " [array([190, 190, 191, ..., 205, 204, 204], dtype=uint8), 1],\n",
              " [array([182, 182, 183, ..., 196, 194, 194], dtype=uint8), 1],\n",
              " [array([172, 172, 176, ..., 191, 190, 190], dtype=uint8), 1],\n",
              " [array([222, 221, 222, ..., 221, 221, 221], dtype=uint8), 1],\n",
              " [array([192, 192, 192, ..., 194, 194, 194], dtype=uint8), 1],\n",
              " [array([180, 180, 182, ..., 200, 200, 200], dtype=uint8), 1],\n",
              " [array([228, 228, 228, ..., 241, 240, 240], dtype=uint8), 1],\n",
              " [array([241, 241, 241, ..., 236, 236, 236], dtype=uint8), 1],\n",
              " [array([187, 186, 186, ..., 204, 203, 201], dtype=uint8), 1],\n",
              " [array([186, 186, 186, ..., 200, 199, 198], dtype=uint8), 1],\n",
              " [array([183, 183, 183, ..., 196, 196, 196], dtype=uint8), 1],\n",
              " [array([235, 235, 235, ..., 243, 243, 243], dtype=uint8), 1],\n",
              " [array([177, 177, 178, ..., 205, 205, 205], dtype=uint8), 1],\n",
              " [array([176, 176, 176, ..., 192, 192, 191], dtype=uint8), 1],\n",
              " [array([184, 184, 186, ..., 199, 198, 198], dtype=uint8), 1],\n",
              " [array([183, 183, 184, ..., 205, 204, 204], dtype=uint8), 1],\n",
              " [array([198, 198, 197, ..., 166, 166, 166], dtype=uint8), 1],\n",
              " [array([126, 126, 123, ..., 158, 157, 157], dtype=uint8), 1],\n",
              " [array([180, 180, 180, ..., 212, 211, 211], dtype=uint8), 1],\n",
              " [array([176, 176, 177, ..., 193, 193, 193], dtype=uint8), 1],\n",
              " [array([178, 178, 179, ..., 196, 196, 195], dtype=uint8), 1],\n",
              " [array([176, 176, 177, ..., 190, 191, 189], dtype=uint8), 1],\n",
              " [array([174, 174, 174, ..., 199, 199, 199], dtype=uint8), 1],\n",
              " [array([236, 237, 236, ..., 226, 227, 227], dtype=uint8), 1],\n",
              " [array([181, 180, 181, ..., 198, 197, 196], dtype=uint8), 1],\n",
              " [array([137, 139, 140, ..., 186, 186, 186], dtype=uint8), 1],\n",
              " [array([188, 187, 188, ..., 192, 192, 191], dtype=uint8), 1],\n",
              " [array([233, 233, 233, ..., 222, 222, 222], dtype=uint8), 1],\n",
              " [array([233, 233, 233, ..., 228, 229, 229], dtype=uint8), 1],\n",
              " [array([242, 242, 242, ..., 240, 240, 240], dtype=uint8), 1],\n",
              " [array([187, 187, 187, ..., 202, 202, 201], dtype=uint8), 1],\n",
              " [array([178, 178, 179, ..., 205, 204, 204], dtype=uint8), 1],\n",
              " [array([188, 187, 189, ..., 193, 192, 191], dtype=uint8), 1],\n",
              " [array([ 75,  75,  76, ..., 134, 131, 131], dtype=uint8), 1],\n",
              " [array([184, 184, 185, ..., 194, 194, 193], dtype=uint8), 1],\n",
              " [array([186, 186, 186, ..., 204, 204, 203], dtype=uint8), 1],\n",
              " [array([165, 165, 166, ..., 187, 187, 187], dtype=uint8), 1],\n",
              " [array([188, 189, 189, ..., 221, 221, 220], dtype=uint8), 1],\n",
              " [array([242, 242, 243, ..., 237, 237, 237], dtype=uint8), 1],\n",
              " [array([198, 198, 198, ..., 214, 214, 214], dtype=uint8), 1],\n",
              " [array([248, 248, 248, ..., 238, 238, 238], dtype=uint8), 1],\n",
              " [array([164, 164, 165, ..., 184, 184, 184], dtype=uint8), 1],\n",
              " [array([157, 157, 157, ..., 183, 184, 184], dtype=uint8), 1],\n",
              " [array([233, 233, 233, ..., 240, 240, 240], dtype=uint8), 1],\n",
              " [array([181, 180, 181, ..., 197, 195, 196], dtype=uint8), 1],\n",
              " [array([187, 187, 187, ..., 199, 199, 199], dtype=uint8), 1],\n",
              " [array([182, 182, 182, ..., 193, 192, 192], dtype=uint8), 1],\n",
              " [array([176, 176, 177, ..., 200, 200, 199], dtype=uint8), 1],\n",
              " [array([177, 177, 177, ..., 182, 181, 181], dtype=uint8), 1],\n",
              " [array([240, 240, 240, ..., 238, 238, 238], dtype=uint8), 1],\n",
              " [array([217, 216, 217, ..., 223, 223, 223], dtype=uint8), 1],\n",
              " [array([178, 178, 178, ..., 198, 198, 197], dtype=uint8), 1],\n",
              " [array([177, 177, 178, ..., 194, 193, 193], dtype=uint8), 1],\n",
              " [array([193, 193, 193, ..., 197, 196, 194], dtype=uint8), 1],\n",
              " [array([ 71,  73,  74, ..., 136, 136, 136], dtype=uint8), 1],\n",
              " [array([186, 186, 185, ..., 182, 180, 180], dtype=uint8), 1],\n",
              " [array([230, 229, 229, ..., 223, 221, 221], dtype=uint8), 1],\n",
              " [array([235, 235, 235, ..., 230, 229, 229], dtype=uint8), 1],\n",
              " [array([193, 193, 193, ..., 205, 203, 200], dtype=uint8), 1],\n",
              " [array([180, 180, 180, ..., 195, 194, 194], dtype=uint8), 1],\n",
              " [array([212, 212, 213, ..., 229, 228, 227], dtype=uint8), 1],\n",
              " [array([126, 128, 132, ..., 161, 161, 161], dtype=uint8), 1],\n",
              " [array([205, 205, 206, ..., 211, 208, 206], dtype=uint8), 1],\n",
              " [array([227, 227, 227, ..., 227, 226, 226], dtype=uint8), 1],\n",
              " [array([167, 166, 170, ..., 212, 212, 212], dtype=uint8), 1],\n",
              " [array([164, 164, 165, ..., 194, 193, 193], dtype=uint8), 1],\n",
              " [array([224, 224, 224, ..., 220, 219, 219], dtype=uint8), 1],\n",
              " [array([235, 235, 235, ..., 242, 242, 242], dtype=uint8), 1],\n",
              " [array([236, 236, 236, ..., 245, 243, 243], dtype=uint8), 1],\n",
              " [array([248, 248, 248, ..., 248, 248, 248], dtype=uint8), 1],\n",
              " [array([175, 175, 175, ..., 198, 197, 196], dtype=uint8), 1],\n",
              " [array([244, 244, 244, ..., 237, 236, 235], dtype=uint8), 1],\n",
              " [array([183, 183, 183, ..., 193, 192, 192], dtype=uint8), 1],\n",
              " [array([236, 236, 238, ..., 240, 241, 241], dtype=uint8), 1],\n",
              " [array([158, 158, 157, ..., 192, 192, 191], dtype=uint8), 1],\n",
              " [array([177, 177, 178, ..., 189, 189, 189], dtype=uint8), 1],\n",
              " [array([186, 186, 186, ..., 199, 198, 197], dtype=uint8), 1],\n",
              " [array([172, 172, 173, ..., 193, 193, 193], dtype=uint8), 1],\n",
              " [array([172, 172, 173, ..., 194, 194, 193], dtype=uint8), 1],\n",
              " [array([172, 172, 173, ..., 192, 192, 190], dtype=uint8), 1],\n",
              " [array([229, 230, 229, ..., 221, 219, 217], dtype=uint8), 1],\n",
              " [array([249, 249, 249, ..., 230, 231, 232], dtype=uint8), 1],\n",
              " [array([145, 145, 146, ..., 122, 123, 124], dtype=uint8), 1],\n",
              " [array([231, 232, 232, ..., 227, 229, 230], dtype=uint8), 1],\n",
              " [array([222, 224, 226, ..., 245, 246, 247], dtype=uint8), 1],\n",
              " [array([255, 255, 255, ..., 255, 255, 255], dtype=uint8), 1],\n",
              " [array([217, 218, 219, ..., 198, 197, 197], dtype=uint8), 1],\n",
              " [array([240, 239, 239, ..., 144, 141, 144], dtype=uint8), 1],\n",
              " [array([222, 224, 224, ..., 188, 188, 188], dtype=uint8), 1],\n",
              " [array([234, 234, 234, ..., 206, 205, 204], dtype=uint8), 1],\n",
              " [array([245, 246, 246, ..., 206, 205, 205], dtype=uint8), 1],\n",
              " [array([249, 249, 249, ..., 195, 195, 200], dtype=uint8), 1],\n",
              " [array([255, 255, 255, ..., 255, 255, 255], dtype=uint8), 1],\n",
              " [array([236, 236, 236, ..., 230, 230, 231], dtype=uint8), 1],\n",
              " [array([106, 106, 105, ..., 147, 148, 147], dtype=uint8), 1],\n",
              " [array([191, 191, 191, ..., 200, 199, 199], dtype=uint8), 1],\n",
              " [array([196, 196, 196, ..., 192, 191, 192], dtype=uint8), 1],\n",
              " [array([136, 138, 139, ..., 171, 171, 170], dtype=uint8), 1],\n",
              " [array([246, 246, 247, ..., 249, 233, 235], dtype=uint8), 1],\n",
              " [array([188, 191, 193, ..., 187, 187, 187], dtype=uint8), 1],\n",
              " [array([255, 255, 255, ..., 255, 255, 255], dtype=uint8), 1],\n",
              " [array([255, 255, 255, ..., 255, 255, 255], dtype=uint8), 1],\n",
              " [array([245, 245, 245, ..., 235, 235, 235], dtype=uint8), 1],\n",
              " [array([229, 229, 229, ..., 214, 215, 214], dtype=uint8), 1],\n",
              " [array([218, 218, 218, ..., 223, 225, 228], dtype=uint8), 1],\n",
              " [array([187, 187, 187, ..., 147, 147, 148], dtype=uint8), 1],\n",
              " [array([251, 251, 251, ..., 228, 230, 232], dtype=uint8), 1],\n",
              " [array([240, 240, 240, ..., 234, 236, 237], dtype=uint8), 1],\n",
              " [array([243, 243, 243, ..., 220, 220, 220], dtype=uint8), 1],\n",
              " [array([238, 237, 237, ..., 186, 186, 189], dtype=uint8), 1],\n",
              " [array([225, 225, 226, ..., 228, 230, 230], dtype=uint8), 1],\n",
              " [array([234, 234, 235, ..., 226, 228, 230], dtype=uint8), 1],\n",
              " [array([244, 244, 244, ..., 214, 221, 227], dtype=uint8), 1],\n",
              " [array([207, 207, 208, ..., 212, 211, 210], dtype=uint8), 1],\n",
              " [array([240, 240, 241, ..., 235, 235, 235], dtype=uint8), 1],\n",
              " [array([245, 246, 246, ..., 235, 235, 235], dtype=uint8), 1],\n",
              " [array([255, 255, 255, ..., 255, 255, 255], dtype=uint8), 1],\n",
              " [array([255, 255, 255, ..., 255, 255, 255], dtype=uint8), 1],\n",
              " [array([255, 255, 255, ..., 255, 255, 255], dtype=uint8), 1],\n",
              " [array([157, 158, 159, ..., 204, 204, 205], dtype=uint8), 1],\n",
              " [array([255, 255, 255, ..., 255, 255, 255], dtype=uint8), 1],\n",
              " [array([163, 164, 164, ..., 211, 211, 211], dtype=uint8), 1],\n",
              " [array([248, 248, 248, ..., 235, 235, 235], dtype=uint8), 1],\n",
              " [array([247, 247, 247, ..., 234, 234, 234], dtype=uint8), 1],\n",
              " [array([182, 186, 187, ..., 181, 181, 181], dtype=uint8), 1],\n",
              " [array([255, 255, 255, ..., 255, 255, 255], dtype=uint8), 1],\n",
              " [array([239, 239, 239, ..., 226, 226, 225], dtype=uint8), 1],\n",
              " [array([238, 238, 238, ..., 229, 228, 228], dtype=uint8), 1],\n",
              " [array([241, 241, 241, ..., 241, 241, 241], dtype=uint8), 2],\n",
              " [array([173, 173, 174, ..., 124, 126, 127], dtype=uint8), 2],\n",
              " [array([168, 168, 168, ..., 168, 168, 168], dtype=uint8), 2],\n",
              " [array([228, 228, 228, ..., 213, 213, 213], dtype=uint8), 2],\n",
              " [array([245, 245, 247, ..., 234, 236, 231], dtype=uint8), 2],\n",
              " [array([241, 241, 241, ..., 238, 238, 238], dtype=uint8), 2],\n",
              " [array([175, 175, 175, ..., 128, 131, 132], dtype=uint8), 2],\n",
              " [array([227, 227, 227, ..., 214, 214, 214], dtype=uint8), 2],\n",
              " [array([101, 103, 106, ..., 101, 101, 101], dtype=uint8), 2],\n",
              " [array([232, 243, 228, ..., 238, 241, 240], dtype=uint8), 2],\n",
              " [array([241, 241, 241, ..., 243, 243, 243], dtype=uint8), 2],\n",
              " [array([189, 189, 189, ..., 178, 178, 175], dtype=uint8), 2],\n",
              " [array([216, 216, 216, ..., 216, 216, 215], dtype=uint8), 2],\n",
              " [array([214, 214, 214, ..., 214, 214, 213], dtype=uint8), 2],\n",
              " [array([229, 229, 229, ..., 214, 214, 214], dtype=uint8), 2],\n",
              " [array([216, 216, 216, ..., 175, 173, 173], dtype=uint8), 2],\n",
              " [array([245, 245, 245, ..., 243, 243, 243], dtype=uint8), 2],\n",
              " [array([ 91,  93,  96, ..., 119, 119, 117], dtype=uint8), 2],\n",
              " [array([160, 162, 162, ..., 137, 139, 144], dtype=uint8), 2],\n",
              " [array([173, 175, 175, ..., 137, 135, 135], dtype=uint8), 2],\n",
              " [array([229, 229, 229, ..., 214, 214, 214], dtype=uint8), 2],\n",
              " [array([241, 241, 241, ..., 241, 241, 241], dtype=uint8), 2],\n",
              " [array([254, 254, 254, ..., 254, 254, 254], dtype=uint8), 2],\n",
              " [array([189, 189, 189, ..., 166, 166, 164], dtype=uint8), 2],\n",
              " [array([83, 81, 81, ..., 61, 63, 61], dtype=uint8), 2],\n",
              " [array([ 28,  23,  16, ..., 189, 189, 187], dtype=uint8), 2],\n",
              " [array([234, 234, 234, ..., 232, 232, 232], dtype=uint8), 2],\n",
              " [array([252, 252, 252, ..., 252, 252, 252], dtype=uint8), 2],\n",
              " [array([214, 216, 216, ..., 219, 220, 220], dtype=uint8), 2],\n",
              " [array([234, 234, 234, ..., 236, 236, 236], dtype=uint8), 2],\n",
              " [array([229, 229, 229, ..., 214, 214, 214], dtype=uint8), 2],\n",
              " [array([166, 168, 173, ..., 144, 144, 144], dtype=uint8), 2],\n",
              " [array([220, 220, 220, ..., 218, 220, 220], dtype=uint8), 2],\n",
              " [array([180, 180, 182, ..., 151, 151, 147], dtype=uint8), 2],\n",
              " [array([182, 182, 182, ..., 151, 151, 150], dtype=uint8), 2],\n",
              " [array([223, 223, 223, ..., 238, 238, 238], dtype=uint8), 2],\n",
              " [array([232, 229, 229, ..., 216, 216, 216], dtype=uint8), 2],\n",
              " [array([241, 241, 241, ..., 241, 241, 241], dtype=uint8), 2],\n",
              " [array([220, 220, 220, ..., 218, 218, 218], dtype=uint8), 2],\n",
              " [array([168, 170, 173, ..., 160, 157, 156], dtype=uint8), 2],\n",
              " [array([225, 225, 225, ..., 220, 220, 220], dtype=uint8), 2],\n",
              " [array([191, 191, 191, ..., 166, 164, 163], dtype=uint8), 2],\n",
              " [array([85, 85, 85, ..., 76, 78, 76], dtype=uint8), 2],\n",
              " [array([180, 180, 180, ..., 171, 171, 169], dtype=uint8), 2],\n",
              " [array([229, 229, 229, ..., 214, 214, 214], dtype=uint8), 2],\n",
              " [array([159, 242, 239, ..., 155, 155, 151], dtype=uint8), 2],\n",
              " [array([100, 101, 105, ..., 121, 121, 119], dtype=uint8), 2],\n",
              " [array([254, 254, 254, ..., 254, 254, 254], dtype=uint8), 2],\n",
              " [array([241, 241, 241, ..., 241, 241, 241], dtype=uint8), 2],\n",
              " [array([191, 191, 191, ..., 166, 166, 163], dtype=uint8), 2],\n",
              " [array([175, 175, 175, ..., 153, 151, 148], dtype=uint8), 2],\n",
              " [array([223, 223, 223, ..., 236, 236, 236], dtype=uint8), 2],\n",
              " [array([232, 232, 232, ..., 229, 229, 229], dtype=uint8), 2],\n",
              " [array([254, 254, 254, ..., 254, 254, 254], dtype=uint8), 2],\n",
              " [array([171, 171, 171, ..., 157, 157, 155], dtype=uint8), 2],\n",
              " [array([154, 161, 161, ..., 157, 155, 152], dtype=uint8), 2],\n",
              " [array([229, 229, 229, ..., 214, 214, 214], dtype=uint8), 2],\n",
              " [array([241, 241, 241, ..., 241, 241, 241], dtype=uint8), 2],\n",
              " [array([220, 220, 220, ..., 214, 214, 214], dtype=uint8), 2],\n",
              " [array([241, 241, 241, ..., 238, 238, 238], dtype=uint8), 2],\n",
              " [array([171, 171, 171, ..., 173, 171, 171], dtype=uint8), 2],\n",
              " [array([112, 112, 112, ..., 133, 133, 133], dtype=uint8), 2],\n",
              " [array([241, 241, 241, ..., 241, 241, 241], dtype=uint8), 2],\n",
              " [array([241, 241, 241, ..., 216, 214, 213], dtype=uint8), 2],\n",
              " [array([208, 207, 207, ..., 198, 196, 195], dtype=uint8), 2],\n",
              " [array([223, 223, 223, ..., 236, 236, 236], dtype=uint8), 2],\n",
              " [array([254, 254, 254, ..., 254, 254, 254], dtype=uint8), 2],\n",
              " [array([208, 128, 244, ..., 126, 124, 120], dtype=uint8), 2],\n",
              " [array([177, 179, 181, ..., 139, 139, 137], dtype=uint8), 2],\n",
              " [array([177, 177, 178, ..., 133, 130, 125], dtype=uint8), 2],\n",
              " [array([241, 241, 241, ..., 232, 234, 234], dtype=uint8), 2],\n",
              " [array([168, 170, 171, ..., 166, 166, 164], dtype=uint8), 2],\n",
              " [array([220, 220, 220, ..., 225, 223, 223], dtype=uint8), 2],\n",
              " [array([232, 234, 234, ..., 225, 225, 223], dtype=uint8), 2],\n",
              " [array([241, 241, 241, ..., 241, 241, 241], dtype=uint8), 2],\n",
              " [array([243, 243, 243, ..., 241, 241, 241], dtype=uint8), 2],\n",
              " [array([171, 171, 171, ..., 164, 164, 163], dtype=uint8), 2],\n",
              " [array([229, 229, 229, ..., 214, 214, 214], dtype=uint8), 2],\n",
              " [array([223, 223, 223, ..., 218, 216, 216], dtype=uint8), 2],\n",
              " [array([184, 184, 184, ..., 178, 165, 127], dtype=uint8), 2],\n",
              " [array([243, 243, 243, ..., 241, 241, 243], dtype=uint8), 2],\n",
              " [array([180, 180, 180, ..., 155, 153, 152], dtype=uint8), 2],\n",
              " [array([189, 189, 189, ..., 155, 153, 152], dtype=uint8), 2],\n",
              " [array([248, 248, 248, ..., 244, 244, 243], dtype=uint8), 2],\n",
              " [array([242, 242, 243, ..., 238, 239, 239], dtype=uint8), 2],\n",
              " [array([242, 242, 243, ..., 243, 243, 243], dtype=uint8), 2],\n",
              " [array([240, 240, 241, ..., 238, 238, 237], dtype=uint8), 2],\n",
              " [array([224, 224, 222, ..., 238, 236, 236], dtype=uint8), 2],\n",
              " [array([236, 236, 236, ..., 238, 236, 236], dtype=uint8), 2],\n",
              " [array([157, 157, 157, ..., 165, 165, 164], dtype=uint8), 2],\n",
              " [array([117, 122, 110, ..., 134, 132, 130], dtype=uint8), 2],\n",
              " [array([245, 245, 243, ..., 239, 240, 240], dtype=uint8), 2],\n",
              " [array([177, 177, 177, ..., 160, 157, 156], dtype=uint8), 2],\n",
              " [array([177, 177, 177, ..., 164, 163, 162], dtype=uint8), 2],\n",
              " [array([117, 100, 101, ..., 142, 141, 139], dtype=uint8), 2],\n",
              " [array([233, 233, 233, ..., 230, 229, 229], dtype=uint8), 2],\n",
              " [array([110, 101, 101, ..., 107, 133, 131], dtype=uint8), 2],\n",
              " [array([114, 114, 115, ..., 126, 120, 121], dtype=uint8), 2],\n",
              " [array([101, 147, 114, ..., 150, 150, 149], dtype=uint8), 2],\n",
              " [array([184, 184, 185, ..., 160, 158, 156], dtype=uint8), 2],\n",
              " [array([213, 213, 213, ..., 214, 213, 213], dtype=uint8), 2],\n",
              " [array([180, 180, 182, ..., 150, 150, 149], dtype=uint8), 2],\n",
              " [array([247, 247, 247, ..., 243, 243, 243], dtype=uint8), 2],\n",
              " [array([183, 183, 184, ..., 151, 150, 149], dtype=uint8), 2],\n",
              " [array([245, 245, 246, ..., 240, 239, 239], dtype=uint8), 2],\n",
              " [array([242, 242, 242, ..., 242, 241, 241], dtype=uint8), 2],\n",
              " [array([255, 255, 255, ..., 255, 255, 255], dtype=uint8), 2],\n",
              " [array([223, 223, 223, ..., 229, 229, 229], dtype=uint8), 2],\n",
              " [array([234, 234, 234, ..., 238, 239, 239], dtype=uint8), 2],\n",
              " [array([177, 177, 177, ..., 172, 171, 170], dtype=uint8), 2],\n",
              " [array([241, 241, 241, ..., 232, 233, 232], dtype=uint8), 2],\n",
              " [array([242, 242, 242, ..., 241, 241, 241], dtype=uint8), 2],\n",
              " [array([206, 206, 207, ..., 215, 215, 214], dtype=uint8), 2],\n",
              " [array([186, 186, 186, ..., 141, 140, 138], dtype=uint8), 2],\n",
              " [array([244, 243, 244, ..., 221, 221, 221], dtype=uint8), 2],\n",
              " [array([246, 246, 246, ..., 235, 235, 235], dtype=uint8), 2],\n",
              " [array([211, 211, 212, ..., 219, 217, 215], dtype=uint8), 2],\n",
              " [array([175, 174, 174, ..., 158, 157, 156], dtype=uint8), 2],\n",
              " [array([ 76,  47,  37, ..., 173, 180, 173], dtype=uint8), 2],\n",
              " [array([169, 169, 169, ..., 169, 169, 169], dtype=uint8), 2],\n",
              " [array([218, 218, 219, ..., 153, 225, 228], dtype=uint8), 2],\n",
              " [array([247, 247, 247, ..., 190, 190, 193], dtype=uint8), 2],\n",
              " [array([244, 246, 246, ..., 217, 217, 217], dtype=uint8), 2],\n",
              " [array([250, 250, 250, ..., 206, 206, 206], dtype=uint8), 2],\n",
              " [array([238, 238, 238, ..., 226, 228, 228], dtype=uint8), 2],\n",
              " [array([247, 246, 246, ..., 223, 221, 220], dtype=uint8), 2],\n",
              " [array([249, 249, 249, ..., 228, 228, 228], dtype=uint8), 2],\n",
              " [array([248, 248, 248, ..., 236, 238, 239], dtype=uint8), 2],\n",
              " [array([248, 248, 247, ..., 197, 196, 195], dtype=uint8), 2],\n",
              " [array([249, 249, 249, ..., 240, 240, 240], dtype=uint8), 2],\n",
              " [array([244, 244, 245, ..., 207, 209, 209], dtype=uint8), 2],\n",
              " [array([246, 246, 246, ..., 246, 246, 246], dtype=uint8), 2],\n",
              " [array([238, 238, 238, ..., 227, 227, 228], dtype=uint8), 2],\n",
              " [array([251, 251, 251, ..., 247, 247, 247], dtype=uint8), 2],\n",
              " [array([228, 228, 228, ..., 200, 201, 203], dtype=uint8), 2],\n",
              " [array([249, 249, 249, ..., 229, 229, 228], dtype=uint8), 2],\n",
              " [array([245, 245, 245, ..., 232, 233, 234], dtype=uint8), 2],\n",
              " [array([244, 243, 243, ..., 244, 243, 243], dtype=uint8), 2],\n",
              " [array([243, 243, 243, ..., 245, 245, 245], dtype=uint8), 2],\n",
              " [array([246, 246, 246, ..., 205, 206, 209], dtype=uint8), 2],\n",
              " [array([246, 246, 246, ..., 192, 194, 198], dtype=uint8), 2],\n",
              " [array([255, 255, 255, ..., 255, 255, 255], dtype=uint8), 2],\n",
              " [array([234, 234, 234, ..., 249, 250, 250], dtype=uint8), 2],\n",
              " [array([255, 255, 255, ..., 255, 255, 255], dtype=uint8), 2],\n",
              " [array([248, 248, 248, ..., 248, 248, 248], dtype=uint8), 2],\n",
              " [array([244, 244, 242, ..., 196, 195, 193], dtype=uint8), 2],\n",
              " [array([249, 249, 249, ..., 239, 240, 241], dtype=uint8), 2],\n",
              " [array([239, 239, 239, ..., 246, 247, 247], dtype=uint8), 2],\n",
              " [array([240, 240, 240, ..., 187, 191, 192], dtype=uint8), 2],\n",
              " [array([247, 247, 247, ..., 177, 178, 178], dtype=uint8), 2],\n",
              " [array([226, 226, 226, ...,  50,  48,  43], dtype=uint8), 2],\n",
              " [array([247, 247, 248, ...,  21,  17,  28], dtype=uint8), 2],\n",
              " [array([247, 247, 247, ..., 235, 234, 233], dtype=uint8), 2],\n",
              " [array([247, 247, 247, ..., 207, 209, 213], dtype=uint8), 2],\n",
              " [array([248, 248, 248, ..., 234, 234, 234], dtype=uint8), 2],\n",
              " [array([222, 222, 224, ..., 220, 220, 221], dtype=uint8), 2],\n",
              " [array([227, 227, 227, ..., 228, 229, 230], dtype=uint8), 2],\n",
              " [array([225, 227, 227, ..., 211, 211, 212], dtype=uint8), 2],\n",
              " [array([248, 248, 248, ..., 190, 190, 189], dtype=uint8), 2],\n",
              " [array([247, 247, 247, ..., 178, 178, 178], dtype=uint8), 2],\n",
              " [array([243, 243, 243, ...,  83, 194, 192], dtype=uint8), 2],\n",
              " [array([247, 247, 247, ..., 201, 203, 204], dtype=uint8), 2],\n",
              " [array([227, 227, 228, ..., 210, 208, 204], dtype=uint8), 2],\n",
              " [array([246, 246, 246, ..., 172, 172, 172], dtype=uint8), 2],\n",
              " [array([140, 140, 141, ..., 137, 136, 136], dtype=uint8), 2],\n",
              " [array([243, 243, 243, ..., 250, 250, 250], dtype=uint8), 2],\n",
              " [array([248, 248, 248, ..., 248, 248, 248], dtype=uint8), 2],\n",
              " [array([175, 175, 176, ..., 203, 203, 202], dtype=uint8), 2],\n",
              " [array([178, 178, 178, ..., 208, 210, 210], dtype=uint8), 2],\n",
              " [array([177, 177, 178, ..., 207, 206, 208], dtype=uint8), 2],\n",
              " [array([183, 183, 183, ..., 208, 206, 206], dtype=uint8), 2],\n",
              " [array([233, 235, 236, ..., 237, 239, 240], dtype=uint8), 2],\n",
              " [array([175, 176, 177, ..., 210, 210, 210], dtype=uint8), 2],\n",
              " [array([183, 181, 183, ..., 212, 212, 212], dtype=uint8), 2],\n",
              " [array([252, 252, 252, ..., 233, 233, 233], dtype=uint8), 2],\n",
              " [array([242, 244, 244, ..., 233, 232, 231], dtype=uint8), 2],\n",
              " [array([244, 244, 244, ..., 217, 216, 214], dtype=uint8), 3],\n",
              " [array([216, 216, 216, ..., 215, 215, 216], dtype=uint8), 3],\n",
              " [array([232, 233, 233, ..., 229, 229, 228], dtype=uint8), 3],\n",
              " [array([226, 226, 228, ..., 215, 215, 215], dtype=uint8), 3],\n",
              " [array([228, 229, 231, ..., 217, 216, 216], dtype=uint8), 3],\n",
              " [array([243, 243, 243, ..., 220, 222, 222], dtype=uint8), 3],\n",
              " [array([243, 243, 243, ..., 237, 237, 237], dtype=uint8), 3],\n",
              " [array([247, 247, 247, ..., 232, 236, 240], dtype=uint8), 3],\n",
              " [array([170, 170, 171, ..., 185, 183, 182], dtype=uint8), 3],\n",
              " [array([209, 209, 210, ..., 207, 207, 207], dtype=uint8), 3],\n",
              " [array([245, 245, 243, ..., 237, 239, 238], dtype=uint8), 3],\n",
              " [array([180, 180, 181, ..., 199, 199, 199], dtype=uint8), 3],\n",
              " [array([183, 184, 185, ..., 174, 174, 172], dtype=uint8), 3],\n",
              " [array([127, 127, 126, ..., 126, 125, 124], dtype=uint8), 3],\n",
              " [array([186, 186, 186, ..., 181, 179, 179], dtype=uint8), 3],\n",
              " [array([233, 233, 233, ..., 222, 222, 222], dtype=uint8), 3],\n",
              " [array([241, 241, 241, ..., 235, 234, 232], dtype=uint8), 3],\n",
              " [array([255, 255, 255, ..., 255, 255, 255], dtype=uint8), 3],\n",
              " [array([206, 206, 206, ..., 161, 163, 164], dtype=uint8), 3],\n",
              " [array([190, 190, 190, ..., 210, 210, 208], dtype=uint8), 3],\n",
              " [array([241, 241, 241, ..., 228, 227, 227], dtype=uint8), 3],\n",
              " [array([184, 185, 186, ..., 176, 175, 174], dtype=uint8), 3],\n",
              " [array([178, 178, 180, ..., 201, 201, 201], dtype=uint8), 3],\n",
              " [array([236, 236, 236, ..., 240, 240, 240], dtype=uint8), 3],\n",
              " [array([255, 255, 255, ..., 255, 255, 255], dtype=uint8), 3],\n",
              " [array([224, 224, 222, ..., 231, 231, 230], dtype=uint8), 3],\n",
              " [array([171, 171, 171, ..., 199, 199, 199], dtype=uint8), 3],\n",
              " [array([147, 152, 155, ...,  68,  68,  68], dtype=uint8), 3],\n",
              " [array([176, 176, 177, ..., 200, 199, 199], dtype=uint8), 3],\n",
              " [array([190, 190, 191, ..., 210, 210, 210], dtype=uint8), 3],\n",
              " [array([195, 194, 195, ..., 197, 196, 196], dtype=uint8), 3],\n",
              " [array([186, 186, 186, ..., 196, 194, 194], dtype=uint8), 3],\n",
              " [array([247, 247, 247, ..., 247, 247, 247], dtype=uint8), 3],\n",
              " [array([177, 177, 178, ..., 194, 194, 194], dtype=uint8), 3],\n",
              " [array([167, 167, 167, ..., 196, 194, 194], dtype=uint8), 3],\n",
              " [array([166, 166, 166, ..., 184, 183, 183], dtype=uint8), 3],\n",
              " [array([187, 187, 187, ..., 193, 193, 192], dtype=uint8), 3],\n",
              " [array([191, 191, 191, ..., 193, 193, 193], dtype=uint8), 3],\n",
              " [array([255, 255, 255, ..., 255, 255, 255], dtype=uint8), 3],\n",
              " [array([204, 203, 205, ..., 218, 217, 217], dtype=uint8), 3],\n",
              " [array([245, 245, 243, ..., 217, 215, 214], dtype=uint8), 3],\n",
              " [array([123, 124, 126, ...,  91,  92,  92], dtype=uint8), 3],\n",
              " [array([248, 248, 248, ..., 111, 184, 224], dtype=uint8), 3],\n",
              " [array([182, 182, 182, ..., 200, 200, 199], dtype=uint8), 3],\n",
              " [array([247, 247, 247, ..., 247, 247, 247], dtype=uint8), 3],\n",
              " [array([169, 169, 169, ..., 193, 192, 192], dtype=uint8), 3],\n",
              " [array([242, 242, 242, ..., 242, 242, 242], dtype=uint8), 3],\n",
              " [array([178, 178, 179, ..., 211, 211, 211], dtype=uint8), 3],\n",
              " [array([233, 233, 233, ..., 228, 228, 228], dtype=uint8), 3],\n",
              " [array([242, 242, 242, ..., 228, 227, 227], dtype=uint8), 3],\n",
              " [array([239, 239, 240, ..., 236, 236, 236], dtype=uint8), 3],\n",
              " [array([178, 178, 178, ..., 190, 187, 186], dtype=uint8), 3],\n",
              " [array([247, 247, 247, ..., 234, 233, 233], dtype=uint8), 3],\n",
              " [array([242, 242, 242, ..., 240, 240, 240], dtype=uint8), 3],\n",
              " [array([255, 255, 255, ..., 255, 255, 255], dtype=uint8), 3],\n",
              " [array([242, 242, 242, ..., 242, 242, 242], dtype=uint8), 3],\n",
              " [array([245, 246, 246, ..., 231, 229, 229], dtype=uint8), 3],\n",
              " [array([228, 228, 228, ..., 213, 213, 213], dtype=uint8), 3],\n",
              " [array([242, 242, 242, ..., 229, 229, 229], dtype=uint8), 3],\n",
              " [array([242, 242, 242, ..., 242, 242, 242], dtype=uint8), 3],\n",
              " [array([234, 234, 234, ..., 213, 211, 208], dtype=uint8), 3],\n",
              " [array([242, 242, 242, ..., 242, 242, 242], dtype=uint8), 3],\n",
              " [array([233, 233, 231, ..., 220, 218, 217], dtype=uint8), 3],\n",
              " [array([241, 241, 242, ..., 245, 244, 244], dtype=uint8), 3],\n",
              " [array([242, 242, 242, ..., 242, 242, 242], dtype=uint8), 3],\n",
              " [array([184, 184, 185, ...,  85, 191, 183], dtype=uint8), 3],\n",
              " [array([236, 236, 237, ..., 219, 219, 219], dtype=uint8), 3],\n",
              " [array([189, 189, 189, ..., 204, 203, 203], dtype=uint8), 3],\n",
              " [array([242, 242, 242, ..., 242, 242, 242], dtype=uint8), 3],\n",
              " [array([242, 242, 242, ..., 241, 241, 241], dtype=uint8), 3],\n",
              " [array([194, 194, 194, ..., 201, 200, 201], dtype=uint8), 3],\n",
              " [array([246, 246, 246, ..., 235, 234, 234], dtype=uint8), 3],\n",
              " [array([174, 174, 174, ..., 196, 194, 194], dtype=uint8), 3],\n",
              " [array([242, 242, 242, ..., 221, 220, 220], dtype=uint8), 3],\n",
              " [array([180, 180, 182, ..., 197, 196, 196], dtype=uint8), 3],\n",
              " [array([255, 255, 255, ..., 255, 255, 255], dtype=uint8), 3],\n",
              " [array([247, 247, 247, ..., 247, 247, 247], dtype=uint8), 3],\n",
              " [array([249, 247, 245, ..., 255, 255, 255], dtype=uint8), 3],\n",
              " [array([255, 255, 255, ..., 255, 255, 255], dtype=uint8), 3],\n",
              " [array([248, 248, 248, ..., 238, 238, 238], dtype=uint8), 3],\n",
              " [array([255, 255, 255, ..., 255, 255, 255], dtype=uint8), 3],\n",
              " [array([242, 242, 242, ..., 242, 242, 242], dtype=uint8), 3],\n",
              " [array([227, 227, 227, ..., 214, 214, 214], dtype=uint8), 3],\n",
              " [array([242, 242, 243, ..., 235, 235, 235], dtype=uint8), 3],\n",
              " [array([255, 255, 255, ..., 255, 255, 255], dtype=uint8), 3],\n",
              " [array([195, 196, 197, ..., 209, 208, 207], dtype=uint8), 3],\n",
              " [array([242, 242, 242, ..., 242, 242, 242], dtype=uint8), 3],\n",
              " [array([248, 248, 248, ..., 242, 241, 240], dtype=uint8), 3],\n",
              " [array([255, 255, 255, ..., 255, 255, 255], dtype=uint8), 3],\n",
              " [array([241, 241, 241, ..., 233, 233, 233], dtype=uint8), 3],\n",
              " [array([181, 181, 181, ..., 105, 186, 137], dtype=uint8), 3],\n",
              " [array([255, 255, 255, ..., 255, 255, 255], dtype=uint8), 3],\n",
              " [array([194, 194, 194, ..., 197, 193, 188], dtype=uint8), 3],\n",
              " [array([255, 255, 255, ..., 255, 255, 255], dtype=uint8), 3],\n",
              " [array([255, 255, 255, ..., 255, 255, 255], dtype=uint8), 3],\n",
              " [array([198, 128, 170, ..., 162, 161, 156], dtype=uint8), 3],\n",
              " [array([241, 241, 241, ..., 238, 239, 239], dtype=uint8), 3],\n",
              " [array([255, 255, 255, ..., 255, 255, 255], dtype=uint8), 3],\n",
              " [array([235, 235, 235, ..., 232, 232, 232], dtype=uint8), 3],\n",
              " [array([227, 227, 227, ..., 226, 226, 226], dtype=uint8), 3],\n",
              " [array([242, 242, 242, ..., 242, 242, 242], dtype=uint8), 3],\n",
              " [array([248, 248, 248, ..., 241, 241, 241], dtype=uint8), 3],\n",
              " [array([194, 194, 198, ..., 216, 216, 216], dtype=uint8), 3],\n",
              " [array([229, 229, 230, ..., 221, 220, 221], dtype=uint8), 3],\n",
              " [array([229, 229, 228, ..., 236, 236, 236], dtype=uint8), 3],\n",
              " [array([231, 230, 230, ..., 228, 228, 228], dtype=uint8), 3],\n",
              " [array([170, 172, 173, ..., 186, 186, 186], dtype=uint8), 3],\n",
              " [array([242, 242, 242, ..., 242, 242, 242], dtype=uint8), 3],\n",
              " [array([237, 239, 239, ..., 216, 216, 220], dtype=uint8), 3],\n",
              " [array([248, 248, 248, ..., 241, 240, 241], dtype=uint8), 3],\n",
              " [array([255, 255, 255, ..., 255, 255, 255], dtype=uint8), 3],\n",
              " [array([255, 255, 255, ..., 255, 255, 255], dtype=uint8), 3],\n",
              " [array([247, 247, 247, ..., 235, 235, 235], dtype=uint8), 3],\n",
              " [array([243, 243, 243, ..., 233, 233, 233], dtype=uint8), 3],\n",
              " [array([247, 247, 247, ..., 226, 228, 229], dtype=uint8), 3],\n",
              " [array([242, 242, 242, ..., 236, 236, 238], dtype=uint8), 3],\n",
              " [array([249, 249, 249, ..., 240, 240, 239], dtype=uint8), 3],\n",
              " [array([236, 236, 236, ..., 229, 229, 229], dtype=uint8), 3],\n",
              " [array([243, 243, 243, ..., 220, 219, 218], dtype=uint8), 3],\n",
              " [array([236, 236, 236, ..., 215, 215, 215], dtype=uint8), 3],\n",
              " [array([225, 225, 226, ..., 221, 220, 217], dtype=uint8), 3],\n",
              " [array([247, 247, 247, ..., 245, 245, 245], dtype=uint8), 3],\n",
              " [array([243, 243, 244, ..., 226, 227, 228], dtype=uint8), 3],\n",
              " [array([248, 248, 248, ..., 239, 239, 239], dtype=uint8), 3],\n",
              " [array([245, 245, 245, ..., 236, 236, 236], dtype=uint8), 3],\n",
              " [array([249, 249, 249, ..., 242, 242, 242], dtype=uint8), 3],\n",
              " [array([248, 249, 249, ..., 242, 240, 242], dtype=uint8), 3],\n",
              " [array([248, 248, 248, ..., 246, 246, 246], dtype=uint8), 3],\n",
              " [array([248, 248, 248, ..., 234, 234, 234], dtype=uint8), 3],\n",
              " [array([227, 227, 227, ..., 227, 227, 226], dtype=uint8), 3],\n",
              " [array([237, 238, 237, ..., 226, 226, 226], dtype=uint8), 3],\n",
              " [array([233, 233, 234, ..., 221, 220, 219], dtype=uint8), 3],\n",
              " [array([218, 218, 219, ..., 208, 209, 208], dtype=uint8), 3],\n",
              " [array([243, 243, 243, ..., 239, 239, 239], dtype=uint8), 3],\n",
              " [array([248, 248, 248, ..., 238, 241, 242], dtype=uint8), 3],\n",
              " [array([250, 250, 252, ..., 246, 247, 247], dtype=uint8), 3],\n",
              " [array([255, 255, 255, ..., 255, 255, 255], dtype=uint8), 3],\n",
              " [array([243, 243, 243, ..., 220, 220, 221], dtype=uint8), 3],\n",
              " [array([248, 248, 249, ..., 240, 241, 242], dtype=uint8), 3],\n",
              " [array([255, 255, 255, ..., 255, 255, 255], dtype=uint8), 3],\n",
              " [array([247, 247, 247, ..., 241, 241, 241], dtype=uint8), 3],\n",
              " [array([193, 193, 193, ..., 190, 194, 193], dtype=uint8), 3],\n",
              " [array([241, 241, 241, ..., 231, 231, 231], dtype=uint8), 3],\n",
              " [array([245, 245, 245, ..., 232, 234, 234], dtype=uint8), 3],\n",
              " [array([255, 255, 255, ..., 255, 255, 255], dtype=uint8), 3],\n",
              " [array([255, 255, 255, ..., 255, 255, 255], dtype=uint8), 3],\n",
              " [array([255, 255, 255, ..., 255, 255, 255], dtype=uint8), 3],\n",
              " [array([242, 242, 242, ..., 227, 227, 226], dtype=uint8), 3],\n",
              " [array([255, 255, 255, ..., 255, 255, 255], dtype=uint8), 3],\n",
              " [array([248, 248, 248, ..., 236, 236, 237], dtype=uint8), 3],\n",
              " [array([239, 239, 239, ..., 224, 224, 224], dtype=uint8), 3],\n",
              " [array([233, 233, 233, ..., 254, 255, 255], dtype=uint8), 3],\n",
              " [array([241, 241, 241, ..., 222, 222, 222], dtype=uint8), 3],\n",
              " [array([240, 240, 240, ..., 225, 224, 224], dtype=uint8), 3],\n",
              " [array([241, 241, 241, ..., 225, 225, 224], dtype=uint8), 3],\n",
              " [array([241, 241, 241, ..., 227, 227, 226], dtype=uint8), 3],\n",
              " [array([248, 248, 248, ..., 248, 248, 248], dtype=uint8), 3],\n",
              " [array([240, 240, 240, ..., 242, 242, 242], dtype=uint8), 3],\n",
              " [array([249, 249, 249, ..., 239, 239, 239], dtype=uint8), 3],\n",
              " [array([239, 239, 239, ..., 222, 222, 222], dtype=uint8), 3],\n",
              " [array([255, 255, 255, ..., 255, 255, 255], dtype=uint8), 3],\n",
              " [array([245, 245, 246, ..., 225, 226, 226], dtype=uint8), 3],\n",
              " [array([242, 242, 242, ..., 228, 226, 222], dtype=uint8), 3],\n",
              " [array([247, 247, 247, ..., 221, 220, 218], dtype=uint8), 3],\n",
              " [array([231, 231, 232, ..., 234, 234, 234], dtype=uint8), 3],\n",
              " [array([247, 247, 248, ..., 249, 249, 250], dtype=uint8), 3],\n",
              " [array([248, 248, 248, ..., 242, 242, 242], dtype=uint8), 3],\n",
              " [array([204, 206, 206, ..., 220, 220, 220], dtype=uint8), 3],\n",
              " [array([236, 239, 239, ..., 230, 230, 231], dtype=uint8), 3],\n",
              " [array([232, 232, 233, ..., 223, 220, 215], dtype=uint8), 3],\n",
              " [array([249, 249, 176, ..., 245, 246, 246], dtype=uint8), 3],\n",
              " [array([248, 248, 248, ..., 243, 243, 243], dtype=uint8), 3],\n",
              " [array([242, 242, 242, ..., 236, 236, 236], dtype=uint8), 3],\n",
              " [array([249, 249, 249, ..., 206, 208, 211], dtype=uint8), 3],\n",
              " [array([243, 243, 243, ..., 224, 222, 221], dtype=uint8), 3],\n",
              " [array([240, 240, 240, ..., 231, 231, 231], dtype=uint8), 3],\n",
              " [array([249, 249, 249, ..., 226, 227, 226], dtype=uint8), 3]]"
            ]
          },
          "metadata": {
            "tags": []
          },
          "execution_count": 4
        }
      ]
    },
    {
      "cell_type": "code",
      "metadata": {
        "id": "mSDArxyL0YPz"
      },
      "source": [
        ""
      ],
      "execution_count": null,
      "outputs": []
    },
    {
      "cell_type": "markdown",
      "metadata": {
        "id": "hL_wKKL17rO5"
      },
      "source": [
        "### **dumping data object into byte format**\n",
        "\n"
      ]
    },
    {
      "cell_type": "code",
      "metadata": {
        "id": "jHPlCeH_kCKu"
      },
      "source": [
        "pick_in=open('data1.pickle','wb')\n",
        "pickle.dump(data,pick_in)\n",
        "pick_in.close()"
      ],
      "execution_count": null,
      "outputs": []
    },
    {
      "cell_type": "markdown",
      "metadata": {
        "id": "IPnriMYp79do"
      },
      "source": [
        "### **Loading dumped file**"
      ]
    },
    {
      "cell_type": "code",
      "metadata": {
        "id": "OK6ckqxckFdq"
      },
      "source": [
        "pick_in=open('data1.pickle','rb')\n",
        "data=pickle.load(pick_in)\n",
        "pick_in.close()"
      ],
      "execution_count": null,
      "outputs": []
    },
    {
      "cell_type": "code",
      "metadata": {
        "id": "IKP-XUo_MWPt"
      },
      "source": [
        ""
      ],
      "execution_count": null,
      "outputs": []
    },
    {
      "cell_type": "markdown",
      "metadata": {
        "id": "nAZP-nXJ8VcB"
      },
      "source": [
        "### **Random shuffling of data and appending features and labels**"
      ]
    },
    {
      "cell_type": "code",
      "metadata": {
        "id": "Z_A_LdMJkGwJ"
      },
      "source": [
        "import random\n",
        "random.shuffle(data)\n",
        "features=[]\n",
        "labels=[]\n",
        "\n",
        "for feature, label in data:\n",
        "  features.append(feature)\n",
        "  labels.append(label)\n"
      ],
      "execution_count": null,
      "outputs": []
    },
    {
      "cell_type": "markdown",
      "metadata": {
        "id": "r3X8O6kn8fVX"
      },
      "source": [
        "### **Train and Test Data split**"
      ]
    },
    {
      "cell_type": "code",
      "metadata": {
        "id": "XOSG5JR6kQT3"
      },
      "source": [
        "from sklearn.model_selection import train_test_split\n",
        "xtrain, xtest, ytrain, ytest= train_test_split(features, labels, test_size=0.20)"
      ],
      "execution_count": null,
      "outputs": []
    },
    {
      "cell_type": "markdown",
      "metadata": {
        "id": "BjRMR2OO8lsr"
      },
      "source": [
        "## **1.) Fitting of model using SUPPORT VECTOR MACHINE(SVM) Algorithm**"
      ]
    },
    {
      "cell_type": "code",
      "metadata": {
        "id": "rXIl5iYGkS8J",
        "outputId": "0ece07a1-b15d-4c78-e05e-b6116d1e1389",
        "colab": {
          "base_uri": "https://localhost:8080/"
        }
      },
      "source": [
        "from sklearn.svm import SVC\n",
        "model= SVC(C=1.0, kernel='poly', gamma='auto')\n",
        "model.fit(xtrain, ytrain)\n",
        "\n",
        "\n"
      ],
      "execution_count": null,
      "outputs": [
        {
          "output_type": "execute_result",
          "data": {
            "text/plain": [
              "SVC(C=1.0, break_ties=False, cache_size=200, class_weight=None, coef0=0.0,\n",
              "    decision_function_shape='ovr', degree=3, gamma='auto', kernel='poly',\n",
              "    max_iter=-1, probability=False, random_state=None, shrinking=True,\n",
              "    tol=0.001, verbose=False)"
            ]
          },
          "metadata": {
            "tags": []
          },
          "execution_count": 9
        }
      ]
    },
    {
      "cell_type": "markdown",
      "metadata": {
        "id": "1DkK-dnO8v18"
      },
      "source": [
        "## **Prediction of the model as per SVM algorithm**"
      ]
    },
    {
      "cell_type": "code",
      "metadata": {
        "id": "jOSCbsW2kVAf",
        "outputId": "2495eeb8-d49d-43f9-aa7e-d0ec96081908",
        "colab": {
          "base_uri": "https://localhost:8080/"
        }
      },
      "source": [
        "prediction =model.predict(xtest)\n",
        "prediction"
      ],
      "execution_count": null,
      "outputs": [
        {
          "output_type": "execute_result",
          "data": {
            "text/plain": [
              "array([2, 1, 3, 0, 3, 0, 2, 2, 1, 1, 1, 1, 2, 0, 0, 1, 3, 3, 3, 1, 0, 0,\n",
              "       2, 1, 2, 1, 2, 3, 3, 3, 3, 2, 0, 1, 3, 3, 2, 3, 1, 3, 3, 1, 2, 2,\n",
              "       0, 3, 1, 1, 0, 3, 1, 1, 3, 0, 1, 1, 0, 3, 3, 0, 3, 1, 0, 0, 3, 3,\n",
              "       1, 0, 1, 1, 1, 1, 2, 1, 1, 3, 1, 0, 0, 0, 3, 1, 2, 1, 2, 2, 0, 3,\n",
              "       0, 1, 1, 0, 0, 2, 2, 2, 0, 2, 0, 2, 0, 0, 0, 2, 3, 1, 0, 3, 0, 2,\n",
              "       0, 1, 1, 0, 0, 0, 1, 0, 2, 1, 1, 2, 0, 0, 0, 2, 2, 2, 0, 2, 0, 3,\n",
              "       1, 2, 3, 2, 2, 0, 0, 0])"
            ]
          },
          "metadata": {
            "tags": []
          },
          "execution_count": 22
        }
      ]
    },
    {
      "cell_type": "markdown",
      "metadata": {
        "id": "oVdiCMOx8222"
      },
      "source": [
        "### **Accuracy and testing of data model**"
      ]
    },
    {
      "cell_type": "code",
      "metadata": {
        "id": "3mKP4CU7kW2x",
        "outputId": "acb3fbe8-4736-4f65-9752-3bf2ec2d820e",
        "colab": {
          "base_uri": "https://localhost:8080/"
        }
      },
      "source": [
        "accuracy=model.score(xtest, ytest)\n",
        "categories= ['Tshirt','kurti', 'shirt', 'skirt']\n",
        "print(\"Accuracy is :\",accuracy)\n"
      ],
      "execution_count": null,
      "outputs": [
        {
          "output_type": "stream",
          "text": [
            "Accuracy is : 0.7285714285714285\n"
          ],
          "name": "stdout"
        }
      ]
    },
    {
      "cell_type": "markdown",
      "metadata": {
        "id": "XTrM8QTc_qtR"
      },
      "source": [
        "### **Classification Report for SVM**"
      ]
    },
    {
      "cell_type": "code",
      "metadata": {
        "id": "x7YjQ2SC_lcg",
        "outputId": "fcb6658c-d11f-4129-d125-c03b27a5dc39",
        "colab": {
          "base_uri": "https://localhost:8080/"
        }
      },
      "source": [
        "from sklearn.metrics import classification_report\n",
        "print(classification_report(ytest,prediction))"
      ],
      "execution_count": null,
      "outputs": [
        {
          "output_type": "stream",
          "text": [
            "              precision    recall  f1-score   support\n",
            "\n",
            "           0       0.55      0.72      0.62        32\n",
            "           1       0.82      0.89      0.85        35\n",
            "           2       0.81      0.58      0.68        43\n",
            "           3       0.79      0.77      0.78        30\n",
            "\n",
            "    accuracy                           0.73       140\n",
            "   macro avg       0.74      0.74      0.73       140\n",
            "weighted avg       0.75      0.73      0.73       140\n",
            "\n"
          ],
          "name": "stdout"
        }
      ]
    },
    {
      "cell_type": "markdown",
      "metadata": {
        "id": "f8CTlf37_usS"
      },
      "source": [
        "### **Confusion Matrix for SVM model**"
      ]
    },
    {
      "cell_type": "code",
      "metadata": {
        "id": "nISRLtv5_5Ua",
        "outputId": "e94997c4-356f-478a-b008-021362aee5ac",
        "colab": {
          "base_uri": "https://localhost:8080/"
        }
      },
      "source": [
        "from sklearn.metrics import confusion_matrix\n",
        "c=confusion_matrix(ytest,prediction)\n",
        "c"
      ],
      "execution_count": null,
      "outputs": [
        {
          "output_type": "execute_result",
          "data": {
            "text/plain": [
              "array([[23,  1,  6,  2],\n",
              "       [ 0, 31,  0,  4],\n",
              "       [17,  1, 25,  0],\n",
              "       [ 2,  5,  0, 23]])"
            ]
          },
          "metadata": {
            "tags": []
          },
          "execution_count": 13
        }
      ]
    },
    {
      "cell_type": "code",
      "metadata": {
        "id": "syJATkfDQkkM",
        "outputId": "9630f4a0-c18a-4543-90bf-7aea4882af6b",
        "colab": {
          "base_uri": "https://localhost:8080/",
          "height": 284
        }
      },
      "source": [
        "print(\"prediction is: \", categories[prediction[5]])\n",
        "mycloth=xtest[5].reshape(50,50)\n",
        "plt.imshow(mycloth, cmap='gray')\n",
        "plt.show()"
      ],
      "execution_count": null,
      "outputs": [
        {
          "output_type": "stream",
          "text": [
            "prediction is:  Tshirt\n"
          ],
          "name": "stdout"
        },
        {
          "output_type": "display_data",
          "data": {
            "image/png": "[encoded data removed]",
            "text/plain": [
              "<Figure size 432x288 with 1 Axes>"
            ]
          },
          "metadata": {
            "tags": [],
            "needs_background": "light"
          }
        }
      ]
    },
    {
      "cell_type": "code",
      "metadata": {
        "id": "oT7pUKQHUu-f",
        "outputId": "0e10389d-db60-4f4d-87d4-51d0344ed4ef",
        "colab": {
          "base_uri": "https://localhost:8080/",
          "height": 284
        }
      },
      "source": [
        "print(\"prediction is: \", categories[prediction[6]])\n",
        "mycloth=xtest[6].reshape(50,50)\n",
        "plt.imshow(mycloth, cmap='gray')\n",
        "plt.show()"
      ],
      "execution_count": null,
      "outputs": [
        {
          "output_type": "stream",
          "text": [
            "prediction is:  shirt\n"
          ],
          "name": "stdout"
        },
        {
          "output_type": "display_data",
          "data": {
            "image/png": "[encoded data removed]",
            "text/plain": [
              "<Figure size 432x288 with 1 Axes>"
            ]
          },
          "metadata": {
            "tags": [],
            "needs_background": "light"
          }
        }
      ]
    },
    {
      "cell_type": "code",
      "metadata": {
        "id": "t4xfCikIU6Wl",
        "outputId": "32e70a2d-8985-452f-a541-84af93340588",
        "colab": {
          "base_uri": "https://localhost:8080/",
          "height": 284
        }
      },
      "source": [
        "print(\"prediction is: \", categories[prediction[7]])\n",
        "mycloth=xtest[7].reshape(50,50)\n",
        "plt.imshow(mycloth, cmap='gray')\n",
        "plt.show()"
      ],
      "execution_count": null,
      "outputs": [
        {
          "output_type": "stream",
          "text": [
            "prediction is:  shirt\n"
          ],
          "name": "stdout"
        },
        {
          "output_type": "display_data",
          "data": {
            "image/png": "[encoded data removed]",
            "text/plain": [
              "<Figure size 432x288 with 1 Axes>"
            ]
          },
          "metadata": {
            "tags": [],
            "needs_background": "light"
          }
        }
      ]
    },
    {
      "cell_type": "code",
      "metadata": {
        "id": "1GV957ZNU9b_",
        "outputId": "cf283373-3dfc-4613-cc4a-7b8e19c4b25d",
        "colab": {
          "base_uri": "https://localhost:8080/",
          "height": 284
        }
      },
      "source": [
        "print(\"prediction is: \", categories[prediction[9]])\n",
        "mycloth=xtest[9].reshape(50,50)\n",
        "plt.imshow(mycloth, cmap='gray')\n",
        "plt.show()"
      ],
      "execution_count": null,
      "outputs": [
        {
          "output_type": "stream",
          "text": [
            "prediction is:  kurti\n"
          ],
          "name": "stdout"
        },
        {
          "output_type": "display_data",
          "data": {
            "image/png": "[encoded data removed]",
            "text/plain": [
              "<Figure size 432x288 with 1 Axes>"
            ]
          },
          "metadata": {
            "tags": [],
            "needs_background": "light"
          }
        }
      ]
    },
    {
      "cell_type": "code",
      "metadata": {
        "id": "wofHywmOug44",
        "outputId": "04cffa66-c7e2-4ea7-fa63-0c07a5067e48",
        "colab": {
          "base_uri": "https://localhost:8080/",
          "height": 282
        }
      },
      "source": [
        "import seaborn as sns\n",
        "sns.heatmap(c,annot=True)"
      ],
      "execution_count": null,
      "outputs": [
        {
          "output_type": "execute_result",
          "data": {
            "text/plain": [
              "<matplotlib.axes._subplots.AxesSubplot at 0x7fcca5a5bcf8>"
            ]
          },
          "metadata": {
            "tags": []
          },
          "execution_count": 19
        },
        {
          "output_type": "display_data",
          "data": {
            "image/png": "[encoded data removed]",
            "text/plain": [
              "<Figure size 432x288 with 2 Axes>"
            ]
          },
          "metadata": {
            "tags": [],
            "needs_background": "light"
          }
        }
      ]
    },
    {
      "cell_type": "code",
      "metadata": {
        "id": "_s8vH6lQum80",
        "outputId": "7e252fe1-677e-4d4f-c2d8-dd31aeec8597",
        "colab": {
          "base_uri": "https://localhost:8080/"
        }
      },
      "source": [
        "from sklearn.metrics import roc_curve, roc_auc_score\n",
        "from sklearn import preprocessing\n",
        "\n",
        "lb = preprocessing.LabelBinarizer()\n",
        "lb.fit(ytest)\n",
        "ytest = lb.transform(ytest)\n",
        "pred = lb.transform(prediction)\n",
        "roc=roc_auc_score(ytest, pred, average='macro')\n",
        "print(roc)"
      ],
      "execution_count": null,
      "outputs": [
        {
          "output_type": "stream",
          "text": [
            "0.8241915729971278\n"
          ],
          "name": "stdout"
        }
      ]
    }
  ]
}
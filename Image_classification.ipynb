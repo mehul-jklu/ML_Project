{
  "nbformat": 4,
  "nbformat_minor": 0,
  "metadata": {
    "colab": {
      "name": "Image_classification.ipynb",
      "provenance": [],
      "collapsed_sections": []
    },
    "kernelspec": {
      "name": "python3",
      "display_name": "Python 3"
    }
  },
  "cells": [
    {
      "cell_type": "markdown",
      "metadata": {
        "id": "tMjt8e106w6O"
      },
      "source": [
        "### **Exraction of Zip File**"
      ]
    },
    {
      "cell_type": "code",
      "metadata": {
        "id": "pxC2aSMhjWvD",
        "outputId": "efb08f31-04a9-4161-98ab-fdaababbcdbf",
        "colab": {
          "base_uri": "https://localhost:8080/",
          "height": 34
        }
      },
      "source": [
        "from zipfile import ZipFile \n",
        "file_name= \"Dataset.zip\"\n",
        "with ZipFile(file_name, 'r') as zip:\n",
        "  zip.extractall()\n",
        "  print('Done')"
      ],
      "execution_count": 1,
      "outputs": [
        {
          "output_type": "stream",
          "text": [
            "Done\n"
          ],
          "name": "stdout"
        }
      ]
    },
    {
      "cell_type": "code",
      "metadata": {
        "id": "3cyHjIj0EPhl"
      },
      "source": [
        ""
      ],
      "execution_count": 1,
      "outputs": []
    },
    {
      "cell_type": "markdown",
      "metadata": {
        "id": "BHdYUuXX7JX1"
      },
      "source": [
        "### **Calling Dataset and labelling of Images categoriacally**"
      ]
    },
    {
      "cell_type": "code",
      "metadata": {
        "id": "FWB-CFbzkAMD"
      },
      "source": [
        "import os\n",
        "import numpy as np\n",
        "import cv2\n",
        "import matplotlib.pyplot as plt\n",
        "import pickle\n",
        "\n",
        "dir= '/content/Dataset'\n",
        "categories= ['Tshirt','kurti', 'shirt', 'skirt']\n",
        "data=[]\n",
        "for category in categories:\n",
        "  path=os.path.join(dir,category)\n",
        "  label=categories.index(category)\n",
        "\n",
        "  for img in os.listdir(path):\n",
        "    imgpath=os.path.join(path,img)\n",
        "    clt_img=cv2.imread(imgpath,0)\n",
        "    clt_img=cv2.resize(clt_img,(50,50))\n",
        "    image=np.array(clt_img).flatten()\n",
        "\n",
        "    data.append([image,label])\n",
        "\n"
      ],
      "execution_count": 72,
      "outputs": []
    },
    {
      "cell_type": "markdown",
      "metadata": {
        "id": "hL_wKKL17rO5"
      },
      "source": [
        "### **dumping data object into byte format**"
      ]
    },
    {
      "cell_type": "code",
      "metadata": {
        "id": "jHPlCeH_kCKu"
      },
      "source": [
        "pick_in=open('data1.pickle','wb')\n",
        "pickle.dump(data,pick_in)\n",
        "pick_in.close()"
      ],
      "execution_count": 73,
      "outputs": []
    },
    {
      "cell_type": "markdown",
      "metadata": {
        "id": "IPnriMYp79do"
      },
      "source": [
        "### **Loading dumped file**"
      ]
    },
    {
      "cell_type": "code",
      "metadata": {
        "id": "OK6ckqxckFdq"
      },
      "source": [
        "pick_in=open('data1.pickle','rb')\n",
        "data=pickle.load(pick_in)\n",
        "pick_in.close()"
      ],
      "execution_count": 74,
      "outputs": []
    },
    {
      "cell_type": "markdown",
      "metadata": {
        "id": "nAZP-nXJ8VcB"
      },
      "source": [
        "### **Random shuffling of data and appending features and labels**"
      ]
    },
    {
      "cell_type": "code",
      "metadata": {
        "id": "Z_A_LdMJkGwJ"
      },
      "source": [
        "import random\n",
        "random.shuffle(data)\n",
        "features=[]\n",
        "labels=[]\n",
        "\n",
        "for feature, label in data:\n",
        "  features.append(feature)\n",
        "  labels.append(label)\n"
      ],
      "execution_count": 75,
      "outputs": []
    },
    {
      "cell_type": "markdown",
      "metadata": {
        "id": "r3X8O6kn8fVX"
      },
      "source": [
        "### **Train and Test Data split**"
      ]
    },
    {
      "cell_type": "code",
      "metadata": {
        "id": "XOSG5JR6kQT3"
      },
      "source": [
        "from sklearn.model_selection import train_test_split\n",
        "xtrain, xtest, ytrain, ytest= train_test_split(features, labels, test_size=0.20)"
      ],
      "execution_count": 112,
      "outputs": []
    },
    {
      "cell_type": "markdown",
      "metadata": {
        "id": "BjRMR2OO8lsr"
      },
      "source": [
        "## **1.) Fitting of model using SUPPORT VECTOR MACHINE(SVM) Algorithm**"
      ]
    },
    {
      "cell_type": "code",
      "metadata": {
        "id": "rXIl5iYGkS8J",
        "outputId": "0e08df1b-d630-464d-e46c-326985fc8f0d",
        "colab": {
          "base_uri": "https://localhost:8080/",
          "height": 84
        }
      },
      "source": [
        "from sklearn.svm import SVC\n",
        "model= SVC(C=1.0, kernel='poly', gamma='auto')\n",
        "model.fit(xtrain, ytrain)\n",
        "\n",
        "\n"
      ],
      "execution_count": 113,
      "outputs": [
        {
          "output_type": "execute_result",
          "data": {
            "text/plain": [
              "SVC(C=1.0, break_ties=False, cache_size=200, class_weight=None, coef0=0.0,\n",
              "    decision_function_shape='ovr', degree=3, gamma='auto', kernel='poly',\n",
              "    max_iter=-1, probability=False, random_state=None, shrinking=True,\n",
              "    tol=0.001, verbose=False)"
            ]
          },
          "metadata": {
            "tags": []
          },
          "execution_count": 113
        }
      ]
    },
    {
      "cell_type": "markdown",
      "metadata": {
        "id": "1DkK-dnO8v18"
      },
      "source": [
        "## **Prediction of the model as per SVM algorithm**"
      ]
    },
    {
      "cell_type": "code",
      "metadata": {
        "id": "jOSCbsW2kVAf"
      },
      "source": [
        "prediction =model.predict(xtest)"
      ],
      "execution_count": 114,
      "outputs": []
    },
    {
      "cell_type": "markdown",
      "metadata": {
        "id": "oVdiCMOx8222"
      },
      "source": [
        "### **Accuracy and testing of data model**"
      ]
    },
    {
      "cell_type": "code",
      "metadata": {
        "id": "3mKP4CU7kW2x",
        "outputId": "605021f5-ade9-47e9-b016-aa2f4d7d86e3",
        "colab": {
          "base_uri": "https://localhost:8080/",
          "height": 34
        }
      },
      "source": [
        "accuracy=model.score(xtest, ytest)\n",
        "categories= ['Tshirt','kurti', 'shirt', 'skirt']\n",
        "print(\"Accuracy is :\",accuracy)\n"
      ],
      "execution_count": 115,
      "outputs": [
        {
          "output_type": "stream",
          "text": [
            "Accuracy is : 0.7659574468085106\n"
          ],
          "name": "stdout"
        }
      ]
    },
    {
      "cell_type": "markdown",
      "metadata": {
        "id": "XTrM8QTc_qtR"
      },
      "source": [
        "### **Classification Report for SVM**"
      ]
    },
    {
      "cell_type": "code",
      "metadata": {
        "id": "x7YjQ2SC_lcg",
        "outputId": "1a86cb9e-d0c7-4aa4-bca5-51b0543055c4",
        "colab": {
          "base_uri": "https://localhost:8080/",
          "height": 202
        }
      },
      "source": [
        "from sklearn.metrics import classification_report\n",
        "print(classification_report(ytest,prediction))"
      ],
      "execution_count": 116,
      "outputs": [
        {
          "output_type": "stream",
          "text": [
            "              precision    recall  f1-score   support\n",
            "\n",
            "           0       0.69      0.75      0.72        36\n",
            "           1       0.86      0.77      0.81        39\n",
            "           2       0.73      0.71      0.72        31\n",
            "           3       0.78      0.83      0.81        35\n",
            "\n",
            "    accuracy                           0.77       141\n",
            "   macro avg       0.77      0.76      0.76       141\n",
            "weighted avg       0.77      0.77      0.77       141\n",
            "\n"
          ],
          "name": "stdout"
        }
      ]
    },
    {
      "cell_type": "markdown",
      "metadata": {
        "id": "f8CTlf37_usS"
      },
      "source": [
        "### **Confusion Matrix for SVM model**"
      ]
    },
    {
      "cell_type": "code",
      "metadata": {
        "id": "nISRLtv5_5Ua",
        "outputId": "d00b2fce-19b8-4443-bd66-2ad00dcfd500",
        "colab": {
          "base_uri": "https://localhost:8080/",
          "height": 84
        }
      },
      "source": [
        "from sklearn.metrics import confusion_matrix\n",
        "c=confusion_matrix(ytest,prediction)\n",
        "c"
      ],
      "execution_count": 117,
      "outputs": [
        {
          "output_type": "execute_result",
          "data": {
            "text/plain": [
              "array([[27,  1,  7,  1],\n",
              "       [ 4, 30,  0,  5],\n",
              "       [ 6,  1, 22,  2],\n",
              "       [ 2,  3,  1, 29]])"
            ]
          },
          "metadata": {
            "tags": []
          },
          "execution_count": 117
        }
      ]
    },
    {
      "cell_type": "code",
      "metadata": {
        "id": "syJATkfDQkkM",
        "outputId": "3530b010-d3c3-442f-c60a-d876157e909d",
        "colab": {
          "base_uri": "https://localhost:8080/",
          "height": 284
        }
      },
      "source": [
        "print(\"prediction is: \", categories[prediction[5]])\n",
        "mycloth=xtest[5].reshape(50,50)\n",
        "plt.imshow(mycloth, cmap='gray')\n",
        "plt.show()"
      ],
      "execution_count": 118,
      "outputs": [
        {
          "output_type": "stream",
          "text": [
            "prediction is:  shirt\n"
          ],
          "name": "stdout"
        },
        {
          "output_type": "display_data",
          "data": {
            "image/png": "[encoded data removed]",
            "text/plain": [
              "<Figure size 432x288 with 1 Axes>"
            ]
          },
          "metadata": {
            "tags": [],
            "needs_background": "light"
          }
        }
      ]
    },
    {
      "cell_type": "code",
      "metadata": {
        "id": "oT7pUKQHUu-f",
        "outputId": "8817b6bc-bed8-43f8-a424-aa3e80589f0f",
        "colab": {
          "base_uri": "https://localhost:8080/",
          "height": 284
        }
      },
      "source": [
        "print(\"prediction is: \", categories[prediction[6]])\n",
        "mycloth=xtest[6].reshape(50,50)\n",
        "plt.imshow(mycloth, cmap='gray')\n",
        "plt.show()"
      ],
      "execution_count": 119,
      "outputs": [
        {
          "output_type": "stream",
          "text": [
            "prediction is:  skirt\n"
          ],
          "name": "stdout"
        },
        {
          "output_type": "display_data",
          "data": {
            "image/png": "[encoded data removed]",
            "text/plain": [
              "<Figure size 432x288 with 1 Axes>"
            ]
          },
          "metadata": {
            "tags": [],
            "needs_background": "light"
          }
        }
      ]
    },
    {
      "cell_type": "code",
      "metadata": {
        "id": "t4xfCikIU6Wl",
        "outputId": "1ec6709b-f900-45e2-ff3b-2258b8dc5db2",
        "colab": {
          "base_uri": "https://localhost:8080/",
          "height": 284
        }
      },
      "source": [
        "print(\"prediction is: \", categories[prediction[7]])\n",
        "mycloth=xtest[7].reshape(50,50)\n",
        "plt.imshow(mycloth, cmap='gray')\n",
        "plt.show()"
      ],
      "execution_count": 120,
      "outputs": [
        {
          "output_type": "stream",
          "text": [
            "prediction is:  Tshirt\n"
          ],
          "name": "stdout"
        },
        {
          "output_type": "display_data",
          "data": {
            "image/png": "[encoded data removed]",
            "text/plain": [
              "<Figure size 432x288 with 1 Axes>"
            ]
          },
          "metadata": {
            "tags": [],
            "needs_background": "light"
          }
        }
      ]
    },
    {
      "cell_type": "code",
      "metadata": {
        "id": "1GV957ZNU9b_",
        "outputId": "bc976011-e445-4efc-c903-f5059ff7b577",
        "colab": {
          "base_uri": "https://localhost:8080/",
          "height": 284
        }
      },
      "source": [
        "print(\"prediction is: \", categories[prediction[9]])\n",
        "mycloth=xtest[9].reshape(50,50)\n",
        "plt.imshow(mycloth, cmap='gray')\n",
        "plt.show()"
      ],
      "execution_count": 121,
      "outputs": [
        {
          "output_type": "stream",
          "text": [
            "prediction is:  Tshirt\n"
          ],
          "name": "stdout"
        },
        {
          "output_type": "display_data",
          "data": {
            "image/png": "[encoded data removed]",
            "text/plain": [
              "<Figure size 432x288 with 1 Axes>"
            ]
          },
          "metadata": {
            "tags": [],
            "needs_background": "light"
          }
        }
      ]
    },
    {
      "cell_type": "markdown",
      "metadata": {
        "id": "FzBasdGw8_SS"
      },
      "source": [
        "### **2.) Fitting of model using MULTIVARIATE LOGISTIC REGRESSION(LR) Algorithm**"
      ]
    },
    {
      "cell_type": "code",
      "metadata": {
        "id": "MSnajKRiVDkP",
        "outputId": "3c1fe376-e4f3-45bc-c937-ca46623ed93a",
        "colab": {
          "base_uri": "https://localhost:8080/",
          "height": 101
        }
      },
      "source": [
        "from sklearn.linear_model import LogisticRegression\n",
        "lg=LogisticRegression(solver='liblinear')\n",
        "lg.fit(xtrain,ytrain)"
      ],
      "execution_count": 122,
      "outputs": [
        {
          "output_type": "execute_result",
          "data": {
            "text/plain": [
              "LogisticRegression(C=1.0, class_weight=None, dual=False, fit_intercept=True,\n",
              "                   intercept_scaling=1, l1_ratio=None, max_iter=100,\n",
              "                   multi_class='auto', n_jobs=None, penalty='l2',\n",
              "                   random_state=None, solver='liblinear', tol=0.0001, verbose=0,\n",
              "                   warm_start=False)"
            ]
          },
          "metadata": {
            "tags": []
          },
          "execution_count": 122
        }
      ]
    },
    {
      "cell_type": "markdown",
      "metadata": {
        "id": "QnIeypm19gnM"
      },
      "source": [
        "### **Prediction for LR**"
      ]
    },
    {
      "cell_type": "code",
      "metadata": {
        "id": "nriPy_g2rmuh",
        "outputId": "faf232a3-5881-47d5-f633-0d6c74dc6556",
        "colab": {
          "base_uri": "https://localhost:8080/",
          "height": 134
        }
      },
      "source": [
        "pred=lg.predict(xtest)\n",
        "pred"
      ],
      "execution_count": 123,
      "outputs": [
        {
          "output_type": "execute_result",
          "data": {
            "text/plain": [
              "array([0, 1, 1, 0, 2, 0, 3, 0, 2, 0, 0, 0, 2, 0, 2, 2, 0, 3, 1, 0, 0, 1,\n",
              "       3, 1, 1, 1, 1, 1, 1, 3, 0, 2, 3, 0, 3, 3, 2, 1, 1, 0, 0, 2, 1, 1,\n",
              "       2, 2, 3, 0, 3, 2, 2, 3, 1, 3, 1, 0, 2, 1, 3, 3, 1, 1, 0, 3, 3, 3,\n",
              "       3, 1, 0, 3, 0, 3, 2, 2, 1, 3, 2, 1, 3, 0, 3, 3, 2, 0, 0, 0, 2, 3,\n",
              "       0, 3, 1, 1, 0, 1, 3, 1, 3, 2, 3, 0, 1, 1, 2, 1, 1, 1, 0, 3, 0, 1,\n",
              "       3, 3, 1, 3, 1, 1, 1, 3, 0, 1, 0, 0, 0, 1, 1, 0, 2, 2, 1, 3, 1, 3,\n",
              "       2, 0, 2, 3, 0, 3, 2, 0, 1])"
            ]
          },
          "metadata": {
            "tags": []
          },
          "execution_count": 123
        }
      ]
    },
    {
      "cell_type": "markdown",
      "metadata": {
        "id": "Yi_UvT7e9mVa"
      },
      "source": [
        "### **Accuracy of the model**"
      ]
    },
    {
      "cell_type": "code",
      "metadata": {
        "id": "rGFp5xpUsm7L",
        "outputId": "123494ee-33dc-4392-fc9b-4dd19bb6d4e0",
        "colab": {
          "base_uri": "https://localhost:8080/",
          "height": 34
        }
      },
      "source": [
        "scores=lg.score(xtest,ytest)\n",
        "scores"
      ],
      "execution_count": 124,
      "outputs": [
        {
          "output_type": "execute_result",
          "data": {
            "text/plain": [
              "0.6737588652482269"
            ]
          },
          "metadata": {
            "tags": []
          },
          "execution_count": 124
        }
      ]
    },
    {
      "cell_type": "markdown",
      "metadata": {
        "id": "1xvqCScM9xCM"
      },
      "source": [
        "### **Classification Report for LR model**"
      ]
    },
    {
      "cell_type": "code",
      "metadata": {
        "id": "hmQ8FWMqsxvR",
        "outputId": "19f83915-0a28-4bf2-cdce-a986b377e7d7",
        "colab": {
          "base_uri": "https://localhost:8080/",
          "height": 202
        }
      },
      "source": [
        "from sklearn.metrics import classification_report\n",
        "print(classification_report(ytest,pred))"
      ],
      "execution_count": 125,
      "outputs": [
        {
          "output_type": "stream",
          "text": [
            "              precision    recall  f1-score   support\n",
            "\n",
            "           0       0.57      0.58      0.58        36\n",
            "           1       0.69      0.74      0.72        39\n",
            "           2       0.68      0.55      0.61        31\n",
            "           3       0.76      0.80      0.78        35\n",
            "\n",
            "    accuracy                           0.67       141\n",
            "   macro avg       0.67      0.67      0.67       141\n",
            "weighted avg       0.67      0.67      0.67       141\n",
            "\n"
          ],
          "name": "stdout"
        }
      ]
    },
    {
      "cell_type": "markdown",
      "metadata": {
        "id": "q-W93Z_N93Wn"
      },
      "source": [
        "### **Confusion Matrix**"
      ]
    },
    {
      "cell_type": "code",
      "metadata": {
        "id": "4u04smEhuCs0",
        "outputId": "b41c7520-bdd9-46ef-efa1-99a2ef9ad276",
        "colab": {
          "base_uri": "https://localhost:8080/",
          "height": 84
        }
      },
      "source": [
        "from sklearn.metrics import confusion_matrix\n",
        "cm=confusion_matrix(ytest,pred)\n",
        "cm"
      ],
      "execution_count": 126,
      "outputs": [
        {
          "output_type": "execute_result",
          "data": {
            "text/plain": [
              "array([[21,  7,  6,  2],\n",
              "       [ 5, 29,  1,  4],\n",
              "       [ 8,  3, 17,  3],\n",
              "       [ 3,  3,  1, 28]])"
            ]
          },
          "metadata": {
            "tags": []
          },
          "execution_count": 126
        }
      ]
    },
    {
      "cell_type": "code",
      "metadata": {
        "id": "wofHywmOug44",
        "outputId": "0a25d7d2-736f-4769-e5ee-00eaaf24501b",
        "colab": {
          "base_uri": "https://localhost:8080/",
          "height": 282
        }
      },
      "source": [
        "import seaborn as sns\n",
        "sns.heatmap(cm,annot=True)"
      ],
      "execution_count": 127,
      "outputs": [
        {
          "output_type": "execute_result",
          "data": {
            "text/plain": [
              "<matplotlib.axes._subplots.AxesSubplot at 0x7f10f2edd860>"
            ]
          },
          "metadata": {
            "tags": []
          },
          "execution_count": 127
        },
        {
          "output_type": "display_data",
          "data": {
            "image/png": "[encoded data removed]",
            "text/plain": [
              "<Figure size 432x288 with 2 Axes>"
            ]
          },
          "metadata": {
            "tags": [],
            "needs_background": "light"
          }
        }
      ]
    },
    {
      "cell_type": "code",
      "metadata": {
        "id": "_s8vH6lQum80"
      },
      "source": [
        ""
      ],
      "execution_count": 127,
      "outputs": []
    },
    {
      "cell_type": "markdown",
      "metadata": {
        "id": "wNclvsMs97qm"
      },
      "source": [
        "### **ROC Score**"
      ]
    },
    {
      "cell_type": "markdown",
      "metadata": {
        "id": "cTh0x-CM-EeL"
      },
      "source": [
        "## **1.) Roc Score for LR model**"
      ]
    },
    {
      "cell_type": "code",
      "metadata": {
        "id": "lzf7oFPKyZ3O",
        "outputId": "d4975c0b-638f-4603-c362-eb28c8e16d24",
        "colab": {
          "base_uri": "https://localhost:8080/",
          "height": 34
        }
      },
      "source": [
        "from sklearn.metrics import roc_curve, roc_auc_score\n",
        "from sklearn import preprocessing\n",
        "\n",
        "lb = preprocessing.LabelBinarizer()\n",
        "lb.fit(ytest)\n",
        "ytest = lb.transform(ytest)\n",
        "pred = lb.transform(pred)\n",
        "roc=roc_auc_score(ytest, pred, average='macro')\n",
        "print(roc)"
      ],
      "execution_count": 128,
      "outputs": [
        {
          "output_type": "stream",
          "text": [
            "0.7797306634774412\n"
          ],
          "name": "stdout"
        }
      ]
    },
    {
      "cell_type": "code",
      "metadata": {
        "id": "5l4Kf5PJzQTC"
      },
      "source": [
        ""
      ],
      "execution_count": 128,
      "outputs": []
    },
    {
      "cell_type": "code",
      "metadata": {
        "id": "3jLJNeet-eXk"
      },
      "source": [
        ""
      ],
      "execution_count": 128,
      "outputs": []
    }
  ]
}